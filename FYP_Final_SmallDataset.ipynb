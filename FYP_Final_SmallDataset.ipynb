{
  "nbformat": 4,
  "nbformat_minor": 0,
  "metadata": {
    "colab": {
      "name": "FYP-Final-SmallDataset.ipynb",
      "provenance": [],
      "collapsed_sections": [
        "KVy1PMLhA0-r",
        "QHhm_PahFAYG",
        "-xkEjErxSCT3",
        "Y3FDJ53SSII3",
        "5r873KsdSSxp",
        "JsDKwlGUXdQY"
      ],
      "authorship_tag": "ABX9TyMOTBlU+ZeRzJTvgz3VIlfx",
      "include_colab_link": true
    },
    "kernelspec": {
      "display_name": "Python 3",
      "name": "python3"
    },
    "language_info": {
      "name": "python"
    }
  },
  "cells": [
    {
      "cell_type": "markdown",
      "metadata": {
        "id": "view-in-github",
        "colab_type": "text"
      },
      "source": [
        "<a href=\"https://colab.research.google.com/github/RashmiChrystal/FYP/blob/main/FYP_Final_SmallDataset.ipynb\" target=\"_parent\"><img src=\"https://colab.research.google.com/assets/colab-badge.svg\" alt=\"Open In Colab\"/></a>"
      ]
    },
    {
      "cell_type": "markdown",
      "metadata": {
        "id": "_u9OpAgFb5V_"
      },
      "source": [
        "# **Anomaly Detection in Image Streams with Machine Learning**"
      ]
    },
    {
      "cell_type": "markdown",
      "source": [
        "The code has been changed to process the new dataset (big one) and the previous lines have been commented so pay attention to it."
      ],
      "metadata": {
        "id": "OtsWht6xy4eV"
      }
    },
    {
      "cell_type": "markdown",
      "metadata": {
        "id": "NvB5td9hcHsW"
      },
      "source": [
        "# **Progress**"
      ]
    },
    {
      "cell_type": "markdown",
      "metadata": {
        "id": "y3tuJpWvgR7m"
      },
      "source": [
        "## Import Required Libraries"
      ]
    },
    {
      "cell_type": "code",
      "source": [
        "pip install pmdarima"
      ],
      "metadata": {
        "colab": {
          "base_uri": "https://localhost:8080/"
        },
        "id": "--1fA-58trAF",
        "outputId": "71e8e855-7386-483d-c4fe-e04def0f9d0a"
      },
      "execution_count": null,
      "outputs": [
        {
          "output_type": "stream",
          "name": "stdout",
          "text": [
            "Collecting pmdarima\n",
            "  Downloading pmdarima-1.8.5-cp37-cp37m-manylinux_2_17_x86_64.manylinux2014_x86_64.manylinux_2_24_x86_64.whl (1.4 MB)\n",
            "\u001b[?25l\r\u001b[K     |▎                               | 10 kB 19.0 MB/s eta 0:00:01\r\u001b[K     |▌                               | 20 kB 9.1 MB/s eta 0:00:01\r\u001b[K     |▊                               | 30 kB 7.9 MB/s eta 0:00:01\r\u001b[K     |█                               | 40 kB 7.3 MB/s eta 0:00:01\r\u001b[K     |█▏                              | 51 kB 3.5 MB/s eta 0:00:01\r\u001b[K     |█▍                              | 61 kB 4.2 MB/s eta 0:00:01\r\u001b[K     |█▋                              | 71 kB 4.4 MB/s eta 0:00:01\r\u001b[K     |██                              | 81 kB 4.5 MB/s eta 0:00:01\r\u001b[K     |██▏                             | 92 kB 5.0 MB/s eta 0:00:01\r\u001b[K     |██▍                             | 102 kB 4.2 MB/s eta 0:00:01\r\u001b[K     |██▋                             | 112 kB 4.2 MB/s eta 0:00:01\r\u001b[K     |██▉                             | 122 kB 4.2 MB/s eta 0:00:01\r\u001b[K     |███                             | 133 kB 4.2 MB/s eta 0:00:01\r\u001b[K     |███▎                            | 143 kB 4.2 MB/s eta 0:00:01\r\u001b[K     |███▌                            | 153 kB 4.2 MB/s eta 0:00:01\r\u001b[K     |███▉                            | 163 kB 4.2 MB/s eta 0:00:01\r\u001b[K     |████                            | 174 kB 4.2 MB/s eta 0:00:01\r\u001b[K     |████▎                           | 184 kB 4.2 MB/s eta 0:00:01\r\u001b[K     |████▌                           | 194 kB 4.2 MB/s eta 0:00:01\r\u001b[K     |████▊                           | 204 kB 4.2 MB/s eta 0:00:01\r\u001b[K     |█████                           | 215 kB 4.2 MB/s eta 0:00:01\r\u001b[K     |█████▏                          | 225 kB 4.2 MB/s eta 0:00:01\r\u001b[K     |█████▍                          | 235 kB 4.2 MB/s eta 0:00:01\r\u001b[K     |█████▊                          | 245 kB 4.2 MB/s eta 0:00:01\r\u001b[K     |██████                          | 256 kB 4.2 MB/s eta 0:00:01\r\u001b[K     |██████▏                         | 266 kB 4.2 MB/s eta 0:00:01\r\u001b[K     |██████▍                         | 276 kB 4.2 MB/s eta 0:00:01\r\u001b[K     |██████▋                         | 286 kB 4.2 MB/s eta 0:00:01\r\u001b[K     |██████▉                         | 296 kB 4.2 MB/s eta 0:00:01\r\u001b[K     |███████                         | 307 kB 4.2 MB/s eta 0:00:01\r\u001b[K     |███████▎                        | 317 kB 4.2 MB/s eta 0:00:01\r\u001b[K     |███████▋                        | 327 kB 4.2 MB/s eta 0:00:01\r\u001b[K     |███████▉                        | 337 kB 4.2 MB/s eta 0:00:01\r\u001b[K     |████████                        | 348 kB 4.2 MB/s eta 0:00:01\r\u001b[K     |████████▎                       | 358 kB 4.2 MB/s eta 0:00:01\r\u001b[K     |████████▌                       | 368 kB 4.2 MB/s eta 0:00:01\r\u001b[K     |████████▊                       | 378 kB 4.2 MB/s eta 0:00:01\r\u001b[K     |█████████                       | 389 kB 4.2 MB/s eta 0:00:01\r\u001b[K     |█████████▎                      | 399 kB 4.2 MB/s eta 0:00:01\r\u001b[K     |█████████▌                      | 409 kB 4.2 MB/s eta 0:00:01\r\u001b[K     |█████████▊                      | 419 kB 4.2 MB/s eta 0:00:01\r\u001b[K     |██████████                      | 430 kB 4.2 MB/s eta 0:00:01\r\u001b[K     |██████████▏                     | 440 kB 4.2 MB/s eta 0:00:01\r\u001b[K     |██████████▍                     | 450 kB 4.2 MB/s eta 0:00:01\r\u001b[K     |██████████▋                     | 460 kB 4.2 MB/s eta 0:00:01\r\u001b[K     |██████████▉                     | 471 kB 4.2 MB/s eta 0:00:01\r\u001b[K     |███████████▏                    | 481 kB 4.2 MB/s eta 0:00:01\r\u001b[K     |███████████▍                    | 491 kB 4.2 MB/s eta 0:00:01\r\u001b[K     |███████████▋                    | 501 kB 4.2 MB/s eta 0:00:01\r\u001b[K     |███████████▉                    | 512 kB 4.2 MB/s eta 0:00:01\r\u001b[K     |████████████                    | 522 kB 4.2 MB/s eta 0:00:01\r\u001b[K     |████████████▎                   | 532 kB 4.2 MB/s eta 0:00:01\r\u001b[K     |████████████▌                   | 542 kB 4.2 MB/s eta 0:00:01\r\u001b[K     |████████████▊                   | 552 kB 4.2 MB/s eta 0:00:01\r\u001b[K     |█████████████                   | 563 kB 4.2 MB/s eta 0:00:01\r\u001b[K     |█████████████▎                  | 573 kB 4.2 MB/s eta 0:00:01\r\u001b[K     |█████████████▌                  | 583 kB 4.2 MB/s eta 0:00:01\r\u001b[K     |█████████████▊                  | 593 kB 4.2 MB/s eta 0:00:01\r\u001b[K     |██████████████                  | 604 kB 4.2 MB/s eta 0:00:01\r\u001b[K     |██████████████▏                 | 614 kB 4.2 MB/s eta 0:00:01\r\u001b[K     |██████████████▍                 | 624 kB 4.2 MB/s eta 0:00:01\r\u001b[K     |██████████████▋                 | 634 kB 4.2 MB/s eta 0:00:01\r\u001b[K     |███████████████                 | 645 kB 4.2 MB/s eta 0:00:01\r\u001b[K     |███████████████▏                | 655 kB 4.2 MB/s eta 0:00:01\r\u001b[K     |███████████████▍                | 665 kB 4.2 MB/s eta 0:00:01\r\u001b[K     |███████████████▋                | 675 kB 4.2 MB/s eta 0:00:01\r\u001b[K     |███████████████▉                | 686 kB 4.2 MB/s eta 0:00:01\r\u001b[K     |████████████████                | 696 kB 4.2 MB/s eta 0:00:01\r\u001b[K     |████████████████▎               | 706 kB 4.2 MB/s eta 0:00:01\r\u001b[K     |████████████████▋               | 716 kB 4.2 MB/s eta 0:00:01\r\u001b[K     |████████████████▉               | 727 kB 4.2 MB/s eta 0:00:01\r\u001b[K     |█████████████████               | 737 kB 4.2 MB/s eta 0:00:01\r\u001b[K     |█████████████████▎              | 747 kB 4.2 MB/s eta 0:00:01\r\u001b[K     |█████████████████▌              | 757 kB 4.2 MB/s eta 0:00:01\r\u001b[K     |█████████████████▊              | 768 kB 4.2 MB/s eta 0:00:01\r\u001b[K     |██████████████████              | 778 kB 4.2 MB/s eta 0:00:01\r\u001b[K     |██████████████████▏             | 788 kB 4.2 MB/s eta 0:00:01\r\u001b[K     |██████████████████▌             | 798 kB 4.2 MB/s eta 0:00:01\r\u001b[K     |██████████████████▊             | 808 kB 4.2 MB/s eta 0:00:01\r\u001b[K     |███████████████████             | 819 kB 4.2 MB/s eta 0:00:01\r\u001b[K     |███████████████████▏            | 829 kB 4.2 MB/s eta 0:00:01\r\u001b[K     |███████████████████▍            | 839 kB 4.2 MB/s eta 0:00:01\r\u001b[K     |███████████████████▋            | 849 kB 4.2 MB/s eta 0:00:01\r\u001b[K     |███████████████████▉            | 860 kB 4.2 MB/s eta 0:00:01\r\u001b[K     |████████████████████            | 870 kB 4.2 MB/s eta 0:00:01\r\u001b[K     |████████████████████▍           | 880 kB 4.2 MB/s eta 0:00:01\r\u001b[K     |████████████████████▋           | 890 kB 4.2 MB/s eta 0:00:01\r\u001b[K     |████████████████████▉           | 901 kB 4.2 MB/s eta 0:00:01\r\u001b[K     |█████████████████████           | 911 kB 4.2 MB/s eta 0:00:01\r\u001b[K     |█████████████████████▎          | 921 kB 4.2 MB/s eta 0:00:01\r\u001b[K     |█████████████████████▌          | 931 kB 4.2 MB/s eta 0:00:01\r\u001b[K     |█████████████████████▊          | 942 kB 4.2 MB/s eta 0:00:01\r\u001b[K     |██████████████████████          | 952 kB 4.2 MB/s eta 0:00:01\r\u001b[K     |██████████████████████▎         | 962 kB 4.2 MB/s eta 0:00:01\r\u001b[K     |██████████████████████▌         | 972 kB 4.2 MB/s eta 0:00:01\r\u001b[K     |██████████████████████▊         | 983 kB 4.2 MB/s eta 0:00:01\r\u001b[K     |███████████████████████         | 993 kB 4.2 MB/s eta 0:00:01\r\u001b[K     |███████████████████████▏        | 1.0 MB 4.2 MB/s eta 0:00:01\r\u001b[K     |███████████████████████▍        | 1.0 MB 4.2 MB/s eta 0:00:01\r\u001b[K     |███████████████████████▋        | 1.0 MB 4.2 MB/s eta 0:00:01\r\u001b[K     |████████████████████████        | 1.0 MB 4.2 MB/s eta 0:00:01\r\u001b[K     |████████████████████████▏       | 1.0 MB 4.2 MB/s eta 0:00:01\r\u001b[K     |████████████████████████▍       | 1.1 MB 4.2 MB/s eta 0:00:01\r\u001b[K     |████████████████████████▋       | 1.1 MB 4.2 MB/s eta 0:00:01\r\u001b[K     |████████████████████████▉       | 1.1 MB 4.2 MB/s eta 0:00:01\r\u001b[K     |█████████████████████████       | 1.1 MB 4.2 MB/s eta 0:00:01\r\u001b[K     |█████████████████████████▎      | 1.1 MB 4.2 MB/s eta 0:00:01\r\u001b[K     |█████████████████████████▌      | 1.1 MB 4.2 MB/s eta 0:00:01\r\u001b[K     |█████████████████████████▉      | 1.1 MB 4.2 MB/s eta 0:00:01\r\u001b[K     |██████████████████████████      | 1.1 MB 4.2 MB/s eta 0:00:01\r\u001b[K     |██████████████████████████▎     | 1.1 MB 4.2 MB/s eta 0:00:01\r\u001b[K     |██████████████████████████▌     | 1.1 MB 4.2 MB/s eta 0:00:01\r\u001b[K     |██████████████████████████▊     | 1.2 MB 4.2 MB/s eta 0:00:01\r\u001b[K     |███████████████████████████     | 1.2 MB 4.2 MB/s eta 0:00:01\r\u001b[K     |███████████████████████████▏    | 1.2 MB 4.2 MB/s eta 0:00:01\r\u001b[K     |███████████████████████████▍    | 1.2 MB 4.2 MB/s eta 0:00:01\r\u001b[K     |███████████████████████████▊    | 1.2 MB 4.2 MB/s eta 0:00:01\r\u001b[K     |████████████████████████████    | 1.2 MB 4.2 MB/s eta 0:00:01\r\u001b[K     |████████████████████████████▏   | 1.2 MB 4.2 MB/s eta 0:00:01\r\u001b[K     |████████████████████████████▍   | 1.2 MB 4.2 MB/s eta 0:00:01\r\u001b[K     |████████████████████████████▋   | 1.2 MB 4.2 MB/s eta 0:00:01\r\u001b[K     |████████████████████████████▉   | 1.2 MB 4.2 MB/s eta 0:00:01\r\u001b[K     |█████████████████████████████   | 1.3 MB 4.2 MB/s eta 0:00:01\r\u001b[K     |█████████████████████████████▎  | 1.3 MB 4.2 MB/s eta 0:00:01\r\u001b[K     |█████████████████████████████▋  | 1.3 MB 4.2 MB/s eta 0:00:01\r\u001b[K     |█████████████████████████████▉  | 1.3 MB 4.2 MB/s eta 0:00:01\r\u001b[K     |██████████████████████████████  | 1.3 MB 4.2 MB/s eta 0:00:01\r\u001b[K     |██████████████████████████████▎ | 1.3 MB 4.2 MB/s eta 0:00:01\r\u001b[K     |██████████████████████████████▌ | 1.3 MB 4.2 MB/s eta 0:00:01\r\u001b[K     |██████████████████████████████▊ | 1.3 MB 4.2 MB/s eta 0:00:01\r\u001b[K     |███████████████████████████████ | 1.3 MB 4.2 MB/s eta 0:00:01\r\u001b[K     |███████████████████████████████▎| 1.4 MB 4.2 MB/s eta 0:00:01\r\u001b[K     |███████████████████████████████▌| 1.4 MB 4.2 MB/s eta 0:00:01\r\u001b[K     |███████████████████████████████▊| 1.4 MB 4.2 MB/s eta 0:00:01\r\u001b[K     |████████████████████████████████| 1.4 MB 4.2 MB/s eta 0:00:01\r\u001b[K     |████████████████████████████████| 1.4 MB 4.2 MB/s \n",
            "\u001b[?25hRequirement already satisfied: pandas>=0.19 in /usr/local/lib/python3.7/dist-packages (from pmdarima) (1.3.5)\n",
            "Requirement already satisfied: joblib>=0.11 in /usr/local/lib/python3.7/dist-packages (from pmdarima) (1.1.0)\n",
            "Requirement already satisfied: scipy>=1.3.2 in /usr/local/lib/python3.7/dist-packages (from pmdarima) (1.4.1)\n",
            "Requirement already satisfied: setuptools!=50.0.0,>=38.6.0 in /usr/local/lib/python3.7/dist-packages (from pmdarima) (57.4.0)\n",
            "Collecting statsmodels!=0.12.0,>=0.11\n",
            "  Downloading statsmodels-0.13.2-cp37-cp37m-manylinux_2_17_x86_64.manylinux2014_x86_64.whl (9.8 MB)\n",
            "\u001b[K     |████████████████████████████████| 9.8 MB 37.5 MB/s \n",
            "\u001b[?25hRequirement already satisfied: Cython!=0.29.18,>=0.29 in /usr/local/lib/python3.7/dist-packages (from pmdarima) (0.29.28)\n",
            "Requirement already satisfied: scikit-learn>=0.22 in /usr/local/lib/python3.7/dist-packages (from pmdarima) (1.0.2)\n",
            "Requirement already satisfied: numpy>=1.19.3 in /usr/local/lib/python3.7/dist-packages (from pmdarima) (1.21.5)\n",
            "Requirement already satisfied: urllib3 in /usr/local/lib/python3.7/dist-packages (from pmdarima) (1.24.3)\n",
            "Requirement already satisfied: python-dateutil>=2.7.3 in /usr/local/lib/python3.7/dist-packages (from pandas>=0.19->pmdarima) (2.8.2)\n",
            "Requirement already satisfied: pytz>=2017.3 in /usr/local/lib/python3.7/dist-packages (from pandas>=0.19->pmdarima) (2018.9)\n",
            "Requirement already satisfied: six>=1.5 in /usr/local/lib/python3.7/dist-packages (from python-dateutil>=2.7.3->pandas>=0.19->pmdarima) (1.15.0)\n",
            "Requirement already satisfied: threadpoolctl>=2.0.0 in /usr/local/lib/python3.7/dist-packages (from scikit-learn>=0.22->pmdarima) (3.1.0)\n",
            "Requirement already satisfied: patsy>=0.5.2 in /usr/local/lib/python3.7/dist-packages (from statsmodels!=0.12.0,>=0.11->pmdarima) (0.5.2)\n",
            "Requirement already satisfied: packaging>=21.3 in /usr/local/lib/python3.7/dist-packages (from statsmodels!=0.12.0,>=0.11->pmdarima) (21.3)\n",
            "Requirement already satisfied: pyparsing!=3.0.5,>=2.0.2 in /usr/local/lib/python3.7/dist-packages (from packaging>=21.3->statsmodels!=0.12.0,>=0.11->pmdarima) (3.0.7)\n",
            "Installing collected packages: statsmodels, pmdarima\n",
            "  Attempting uninstall: statsmodels\n",
            "    Found existing installation: statsmodels 0.10.2\n",
            "    Uninstalling statsmodels-0.10.2:\n",
            "      Successfully uninstalled statsmodels-0.10.2\n",
            "Successfully installed pmdarima-1.8.5 statsmodels-0.13.2\n"
          ]
        }
      ]
    },
    {
      "cell_type": "code",
      "metadata": {
        "id": "1qmQJhKObfSa"
      },
      "source": [
        "import cv2\n",
        "import numpy as np\n",
        "import pandas as pd\n",
        "import os\n",
        "import glob\n",
        "import math\n",
        "from skimage.filters import roberts, sobel, scharr, prewitt\n",
        "from scipy import ndimage as nd\n",
        "from skimage.filters.rank import entropy\n",
        "from skimage.morphology import disk\n",
        "from skimage import io\n",
        "from sklearn.preprocessing import StandardScaler\n",
        "from sklearn.decomposition import PCA as sklearnPCA\n",
        "from matplotlib import pyplot as plt\n",
        "from skimage.feature import greycomatrix, greycoprops\n",
        "import io\n",
        "from math import sqrt"
      ],
      "execution_count": null,
      "outputs": []
    },
    {
      "cell_type": "markdown",
      "metadata": {
        "id": "oKQuTd04ozqm"
      },
      "source": [
        "## Upload the Dataset from a local directory."
      ]
    },
    {
      "cell_type": "markdown",
      "metadata": {
        "id": "HYY6EFqcpBaG"
      },
      "source": [
        "The dataset contains a series of images and a zipped folder is uploaded here."
      ]
    },
    {
      "cell_type": "code",
      "metadata": {
        "colab": {
          "resources": {
            "http://localhost:8080/nbextensions/google.colab/files.js": {
              "data": "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",
              "ok": true,
              "headers": [
                [
                  "content-type",
                  "application/javascript"
                ]
              ],
              "status": 200,
              "status_text": ""
            }
          },
          "base_uri": "https://localhost:8080/",
          "height": 73
        },
        "id": "nClEr5GTknjK",
        "outputId": "f3618f7d-5b53-47d7-8d02-8e75f3e5e963"
      },
      "source": [
        "from google.colab import files\n",
        "uploadedData = files.upload()"
      ],
      "execution_count": null,
      "outputs": [
        {
          "output_type": "display_data",
          "data": {
            "text/plain": [
              "<IPython.core.display.HTML object>"
            ],
            "text/html": [
              "\n",
              "     <input type=\"file\" id=\"files-2179a5d0-1477-4371-8e34-3fb0a58b6c74\" name=\"files[]\" multiple disabled\n",
              "        style=\"border:none\" />\n",
              "     <output id=\"result-2179a5d0-1477-4371-8e34-3fb0a58b6c74\">\n",
              "      Upload widget is only available when the cell has been executed in the\n",
              "      current browser session. Please rerun this cell to enable.\n",
              "      </output>\n",
              "      <script src=\"/nbextensions/google.colab/files.js\"></script> "
            ]
          },
          "metadata": {}
        },
        {
          "output_type": "stream",
          "name": "stdout",
          "text": [
            "Saving smallDataset.zip to smallDataset.zip\n"
          ]
        }
      ]
    },
    {
      "cell_type": "markdown",
      "metadata": {
        "id": "0SJKBz3bpRf5"
      },
      "source": [
        "The zipped dataset folder is unfolded and extracted using the following code."
      ]
    },
    {
      "cell_type": "code",
      "metadata": {
        "id": "6gk6w6qjYeQP"
      },
      "source": [
        "import zipfile\n",
        "#data = zipfile.ZipFile(io.BytesIO(uploadedData['converted images.zip']), 'r')\n",
        "#data = zipfile.ZipFile(io.BytesIO(uploadedData['Normal.zip']), 'r')\n",
        "data = zipfile.ZipFile(io.BytesIO(uploadedData['smallDataset.zip']), 'r')\n",
        "data.extractall()\n",
        "#data.printdir()"
      ],
      "execution_count": null,
      "outputs": []
    },
    {
      "cell_type": "markdown",
      "metadata": {
        "id": "lYUeh3bcpf8E"
      },
      "source": [
        "The image data is read and stored in a list named list_3."
      ]
    },
    {
      "cell_type": "code",
      "metadata": {
        "colab": {
          "base_uri": "https://localhost:8080/"
        },
        "id": "EwlGIleFmvx3",
        "outputId": "4d4f87e8-6320-4290-f7c3-0429a02a8c5e"
      },
      "source": [
        "list_3 = []\n",
        "list_4 = []\n",
        "\n",
        "filenames = glob.glob(\"smallDataset/\"+\"*.jpg\")\n",
        "#filenames = glob.glob(\"Normal/\"+\"*.jpg\")\n",
        "filenames.sort()\n",
        "for img in filenames:\n",
        "  n = cv2.imread(img, 0)\n",
        "  if n is not None:\n",
        "    list_3.append(n)\n",
        "    list_4.append(img)\n",
        "print(\"The length of the image dataset: \", len(list_3))"
      ],
      "execution_count": null,
      "outputs": [
        {
          "output_type": "stream",
          "name": "stdout",
          "text": [
            "The length of the image dataset:  100\n"
          ]
        }
      ]
    },
    {
      "cell_type": "code",
      "source": [
        "anomaly_image = int(input(\"Input the number of the image in which the anomaly begins: \"))\n",
        "dataset_length = len(list_3)"
      ],
      "metadata": {
        "colab": {
          "base_uri": "https://localhost:8080/"
        },
        "id": "8QsvpQYe463m",
        "outputId": "64a76cd9-1b43-4141-e262-6ea1f3e6c587"
      },
      "execution_count": null,
      "outputs": [
        {
          "name": "stdout",
          "output_type": "stream",
          "text": [
            "Input the number of the image in which the anomaly begins: 43\n"
          ]
        }
      ]
    },
    {
      "cell_type": "markdown",
      "metadata": {
        "id": "8auc4gw4p6_-"
      },
      "source": [
        "## Preprocessing of the data"
      ]
    },
    {
      "cell_type": "code",
      "source": [
        "crop_y = list_3[0].shape[0] - 40\n",
        "crop_x = list_3[0].shape[1]"
      ],
      "metadata": {
        "id": "I-HTcdW8da3q"
      },
      "execution_count": null,
      "outputs": []
    },
    {
      "cell_type": "code",
      "source": [
        "def crop_image(img):  #crop_x, crop_y\n",
        "  cropped_image = img[0:crop_y, 0:crop_x]\n",
        "  return cropped_image"
      ],
      "metadata": {
        "id": "yqa3McKabXL2"
      },
      "execution_count": null,
      "outputs": []
    },
    {
      "cell_type": "code",
      "source": [
        "from google.colab.patches import cv2_imshow"
      ],
      "metadata": {
        "id": "l9OQtDR2hzvB"
      },
      "execution_count": null,
      "outputs": []
    },
    {
      "cell_type": "code",
      "source": [
        "cropped_img = crop_image(list_3[0])\n",
        "cv2_imshow(cropped_img)\n",
        "cv2.waitKey(0)"
      ],
      "metadata": {
        "colab": {
          "base_uri": "https://localhost:8080/",
          "height": 339
        },
        "id": "QFCz-Z7idhNJ",
        "outputId": "6a62d052-b224-4cd8-8699-89f1387f3350"
      },
      "execution_count": null,
      "outputs": [
        {
          "output_type": "display_data",
          "data": {
            "text/plain": [
              "<PIL.Image.Image image mode=L size=600x305 at 0x7F5921BC0750>"
            ],
            "image/png": "[encoded data removed]"
          },
          "metadata": {}
        },
        {
          "output_type": "execute_result",
          "data": {
            "text/plain": [
              "-1"
            ]
          },
          "metadata": {},
          "execution_count": 10
        }
      ]
    },
    {
      "cell_type": "markdown",
      "metadata": {
        "id": "QDlXG1tzAA8s"
      },
      "source": [
        "Contrast Stretching is done on the images.\n",
        "\n",
        "The equation of the contrast stretching function is as follows,\n",
        "\n",
        "\n",
        "![csEQ.PNG](data:image/png;base64,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)\n",
        "\n",
        "      where, P(output) = the value of the output pixel\n",
        "      P(input) = the value of the input pixel\n",
        "      a = lowest gray level value of the original image\n",
        "    \tb = highest gray level value of the original image\n",
        "      c = lowest gray level value needed in the output image\n",
        "      d = highest gray level value needed in the output image\n"
      ]
    },
    {
      "cell_type": "code",
      "metadata": {
        "id": "33Um-cD1iLRh"
      },
      "source": [
        "def contrastStretching(image):\n",
        "    plt.hist(image.ravel(), 256, [0, 256])\n",
        "    frame1 = image.copy()\n",
        "    \n",
        "    xp1 = [5, 50, 145, 250]\n",
        "    fp1 = [5, 10, 245, 250]\n",
        "    y = np.arange(256)\n",
        "    table1 = np.interp(y, xp1, fp1).astype('uint8')\n",
        "    frame1 = cv2.LUT(frame1, table1)\n",
        "    plt.hist(frame1.ravel(), 256, [0, 256])\n",
        "    #plt.show()\n",
        "    return frame1"
      ],
      "execution_count": null,
      "outputs": []
    },
    {
      "cell_type": "markdown",
      "metadata": {
        "id": "AC-CEfLBAH5b"
      },
      "source": [
        "Noise removal is done by using the Gaussian Filter\n",
        "\n",
        "The 2D isotropic Gaussian kernel,\n",
        "\n",
        "![image.png](data:image/png;base64,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)\n",
        "\n",
        "    where, G(x,y) = Gaussian distribution\n",
        "\t  σ = standard deviation\n"
      ]
    },
    {
      "cell_type": "code",
      "metadata": {
        "id": "fX3tE6K-iZSi"
      },
      "source": [
        "def gaussianBlur(image):\n",
        "    gaussian = cv2.GaussianBlur(image,(5,5),0)\n",
        "    return gaussian"
      ],
      "execution_count": null,
      "outputs": []
    },
    {
      "cell_type": "markdown",
      "metadata": {
        "id": "FnQZkDSXAMuG"
      },
      "source": [
        "## Feature Extraction"
      ]
    },
    {
      "cell_type": "markdown",
      "metadata": {
        "id": "pCfsWlFoAVHB"
      },
      "source": [
        "Function to calculate the histogram of a given image. \n",
        "\n",
        "This will be needed for the calculation of the first-order statistical features."
      ]
    },
    {
      "cell_type": "code",
      "metadata": {
        "id": "w9yEtnUfiYOW"
      },
      "source": [
        "def calcHistogram(image):\n",
        "    hist, edges, patches = plt.hist(image.ravel(), 256, [0, 256])\n",
        "    return hist"
      ],
      "execution_count": null,
      "outputs": []
    },
    {
      "cell_type": "markdown",
      "metadata": {
        "id": "Zup9RM2HAoR_"
      },
      "source": [
        "Function to find the average of the calculated values for each pixel/pixel neighbourhoods of an image."
      ]
    },
    {
      "cell_type": "code",
      "metadata": {
        "id": "Z20urs6xicyn"
      },
      "source": [
        "def findAverage(list):\n",
        "    avg = sum(list)/len(list)\n",
        "    return avg"
      ],
      "execution_count": null,
      "outputs": []
    },
    {
      "cell_type": "code",
      "metadata": {
        "id": "Of3HcWNRihz_"
      },
      "source": [
        "#Extracting features\n",
        "G = 256 #NUmber of gray levels in an image"
      ],
      "execution_count": null,
      "outputs": []
    },
    {
      "cell_type": "markdown",
      "metadata": {
        "id": "KVy1PMLhA0-r"
      },
      "source": [
        "### First-Order Statistical Features"
      ]
    },
    {
      "cell_type": "markdown",
      "metadata": {
        "id": "fWyMl1FsA8bL"
      },
      "source": [
        "Function to calculate the probability density value that will be needed for the first-order feature calculation.\n",
        "\n",
        "![image.png](data:image/png;base64,iVBORw0KGgoAAAANSUhEUgAAAGEAAAAlCAYAAABSz4fZAAAER0lEQVRoge2av0/yXBTHv7z/gKk4Ohjr4mBIpGEwhsGBqnE0qZOjSfsHONTdBNwc/JHoKk10tJhiIgMNYQDTxlWIg2OL/gf3GXjpS+29BZ6HR5u895N04HB77zn3e3p674UUIYSA86P889MOcLgIiYCLkAC4CAmAi5AAuAgJgIuQALgICYCLkAC4CAlgaiL4vo9SqYSjoyPq94ZhQNM0+L4/rSF/i1F+2rYNTdPguu73OUVikGWZAAhdqqoSz/NC7TzPI5IkkXK5HNcdcRyHiKJIOp1ObLu/xbh+DtqZphnbbhDPgHq9HszT8L3FYjGw04gVwfO8UIeO4xBBEMjFxUWona7rpFgsRu6XJCnStlwuE1mWY4P7U0zTpI7B8nMQp+M4ga3T6RBBECIJN4yqqpH+dF0nsiwTVVVDdlEUmaLGiuA4DgEQckSWZaIoSiSASbJbFEVSr9fHbj8JnucRWZaJrusR+6R+0iZ5VH+KogTJOkxc0Yl9JzSbTUiShHQ6HdheX1+xuroafH58fIQkSVhcXAxstm0jlUphaWmJ2m+hUMDDw8PEpXMUvu9jbm4OlmXh+PgYqVQKmqYx/QSAUqkUajdMPp/H7e0tday7uzsoihLp7/PzE5lMBrOzs6hUKgAA13UhyzLT71gRarUaCoUCAKDb7ULTNPR6Pezu7gZtXl5eIIpi6L719XXouh7c+5WFhQW0223muKlUauRFI51Og/z784jjOCCE4OzsjOknABweHkKSJOTz+ch38/PzaLVa1LFOTk6wv78fsrmuG4iiKAru7+8B9JN5Y2ODGW+sCNVqNcgoURTR6/VQq9VC6rfb7dCTMWynBTYOpF8mYy8Wtm1DEARkMpmIPzQ/AaDVaiGXy43tn23bAIDt7e2QvdlsBjFvbW3BMAwA/WReW1tj9scUwXVdfHx8BBlFCIFhGJHgWFiWNVFg06LRaDCfQBq2bUMUxUhZiePm5gYHBwcRe61Ww/LyMoB+NQCASqWCarUafKbBFKHZbEIUxZGTns1m8fz8HLINsnGSwIb53XIEAE9PT9SMp/kJ9EWTJGls33zfx/n5eagkD6hWq6H52tvbw+npKbUMDsMU4erqivliHWZlZQWdTidkazQayOVycF0Xl5eXkXve3t6QzWaZff5JObIsCzMzM+h2u9jc3Iz1E/hPNMMwgjIz4P39PSLQ9fU1VFWNJFilUolM9s7ODizLGv1k0pZMw5sL1hItbqlmmiYBQGRZpq6z/+YSVdd1AiCyLmctKQftvy5pCaEvUVm+s+ZLEISRm77YfcK46LpODYLGd2zWWEziJ22zZppmaIc8LaYiwv/l2EJRlMgJwDSYigiE9B0vFovMTCuXy9Rzp+9mlJ/1ep2oqho6wiCk/2Tgy+nBtEgRwv/89dPw3xMSABchAXAREgAXIQFwERIAFyEBcBESABchAXAREgAXIQFwERLAL3wh7gPRst9LAAAAAElFTkSuQmCC)\n",
        "\n",
        "    where, P(i) = probability density of the intensity level, i\n",
        "\t  t(i) = the total number of pixels that has the intensity level, i\n",
        "\t  N = the total number of pixels in the image\n"
      ]
    },
    {
      "cell_type": "code",
      "metadata": {
        "id": "oe9fpvYvilF9"
      },
      "source": [
        "def calc_Probability_Density(hist_i_value, size):\n",
        "    return (hist_i_value/size)"
      ],
      "execution_count": null,
      "outputs": []
    },
    {
      "cell_type": "markdown",
      "metadata": {
        "id": "K9hwUFJfBGcI"
      },
      "source": [
        "Statistical Mean calculation\n",
        "\n",
        "![image.png](data:image/png;base64,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)"
      ]
    },
    {
      "cell_type": "code",
      "metadata": {
        "id": "J8tA1PHTinqo"
      },
      "source": [
        "def Stat_Mean(i, prob_density):\n",
        "    mean = (i * (prob_density))\n",
        "    return mean"
      ],
      "execution_count": null,
      "outputs": []
    },
    {
      "cell_type": "markdown",
      "metadata": {
        "id": "7UXn6T0vBg5u"
      },
      "source": [
        "Average COntrast calculation\n",
        "\n",
        "![image.png](data:image/png;base64,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)"
      ]
    },
    {
      "cell_type": "code",
      "metadata": {
        "id": "krkkf8i0istw"
      },
      "source": [
        "def Stat_Avg_Contrast(i, prob_density, mean):\n",
        "    avg_contrast = pow((i-mean),2) * prob_density\n",
        "    return avg_contrast"
      ],
      "execution_count": null,
      "outputs": []
    },
    {
      "cell_type": "markdown",
      "metadata": {
        "id": "Q7FvXSwtBkFH"
      },
      "source": [
        "Skewness of a pixel calculation\n",
        "\n",
        "![image.png](data:image/png;base64,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)"
      ]
    },
    {
      "cell_type": "code",
      "metadata": {
        "id": "THToJEpUiuwP"
      },
      "source": [
        "def Stat_Skewness(i, mean, prob_density):\n",
        "    skewness_component = pow((i-mean),3) * prob_density\n",
        "    return skewness_component"
      ],
      "execution_count": null,
      "outputs": []
    },
    {
      "cell_type": "markdown",
      "metadata": {
        "id": "xvFkCMz5Bm_e"
      },
      "source": [
        "Kurtosis of a pixel calculation\n",
        "\n",
        "![image.png](data:image/png;base64,iVBORw0KGgoAAAANSUhEUgAAANYAAABCCAYAAAArFCh7AAAIbElEQVR4nO3dz2sTTRgH8G9e3rvdpieP2d5UKnZaROLBgm5A6KmQP6CibnostrDRo0ri2Zr+AZrUH1AKoU2FXnYtWKokZ7tBRDzt2uo/MO+h7L7Nr2Zns5Ok+nxgwTTZzTPOPDsz+ysxzjkHISRS/ww6AEL+RJRYhEhAiUWIBJRYhEhAiUWIBJRYgizLwtTUFGKxGGKxGFZXV4XWTaVSsCxLYoRkGFBiCbAsC7Ozs1hcXATnHIVCIfC6pVIJ379/x8HBgcQIybCI0Xms4FKpFGZmZrC0tNTTNh4+fIhkMhlhZGTYUI8VUL1eR6VSwfz8fNv38/m8Pzw8ueTz+T5HSoYBJVZAP378AGMM8XgcwHHPczJxlpaWwDlvWXrp3cjZRYkV0Pnz52HbNur1OgBgZmYGjDGhxHFdFwcHB/j9+7esMMmQoMQKKJFIQNd1qKqK0dFRvHnzBouLi4HXz+fzGBsbg23buH37NlKplMRoyaDRwQtCJKAeixAJKLEIkYASixAJKLEEdDpXJbrQJU1/PkosAfPz81BVFQDAGGt73qrT4jgO0un0gEtA+oUSS0A8Hse7d+8AAPv7+0JXVcTjcTx58kRWaGTIUGIJmpiY8C++XV5eFhrWJRIJv8cjfzY6jxVSKpVCpVKBoij48uWLf6kTIQD1WKG9fPkSiqLg8PAQCwsLgw6HDBkpiWVZFmKxmIxNS+W6LkZHRwMN7+LxODY2NgAAa2trQjc8nnVntX77KfLEqtfrePXqVdSb7YuFhQWhOVAymUQulwMA3L9/H7VaLfR3u66LfD6PbDYbehtRKJVKyGQycF237ftR1W+38naLY+jxiGmaxh3H4RI2LZVhGNw0Ta5pGjdNU2hdTdM4AM4Y447jCH+34zicMcaLxaLwujJUq1Wuqiq3bbvlvdPqN5fLcQANi6ZpvFqtNnwuaHlPiyMKxWKRM8Y4AK4oCtd1PbJtR9r6vcbJOecAuGmawo1UluYK9xbOOS+XyzyXy3HOjxtOuVzmhUIh8LYdx+GKonAAoSrHMAz/+5sxxoRiiUqxWOSapjX8LUj9Msa4YRic8/8TKJ1Ot2ynXXnL5TJXFKVrHFEwTZMzxvykLZfLHEBkO7dIE6tdwx2WxDqN1+OcXDo19E5M0/TXLZfLgdfz9v6y9sq9UFW1of6C1K+iKA3lz+VyDckSprzNccjgxRXV9wgnVnMXrqpq2yzv91DQ27M1V7zo0CzMUNBjGIY/rAjacLzhSDMvUVVVDRVLN0HqUdd1v/dp1q5+q9Vqy/+5rusNPU6n8np1164tnRZHFEzT5Ol0OtKRgVDr97LaGzM3v/Z43eppXXi7JAjb2+m6zhlj3DRNf/gRhjem72Wn4I3Zg8ZgGEbLUOnke1GO+z1B6zGXy7Wtw071WygU/HI7jsMLhUJLD96pvKf1ZJ3iiILX1hhjQiONrtsV+bBpmg3dersxcb8Vi0WuqmrDXnKQQ1Dbtv35VpAYNE3rOOzUNK3jmP/k0LPT0qkxBq1H0QadTqcbvr9dY+1UXtM0O/bOp8URxQ7acRx/tBFVu/k38OFDALu7u7h165b/+sOHDw2vB2F9fR137971r3wY9OHZRCKB6elpjIyM9PyIs0qlgpWVlbbvJZNJ8JAXzciqx+3tbRQKBdy7d6/nmILa2toSXqdZPB7H48ePsba2ht3d3UgeTSd0HmtnZwdXrlwBcNyAX7x44b8W5T3lqNfbK46OjnDt2jX/9fv37wEcP/xlEPL5PPb29vD8+fNAn5+cnMTnz59b/m5ZFhRFQSKRiDrESOvRU6vVcHh4iJs3b576uU7l3dnZwcTERE8x9EpRlMi2JZRYe3t7+PXrF1zXxaNHjzA9PY2LFy+GOqm5tbXV9VaLIHuOkZERbG5uAjhujJlMBoZhSGmQ3ViWheXlZWxsbAS+dvDSpUuwbbvl77u7u5ienkatVov8qo6g9fj161dMTk4G2ubr168BoOv/e6fyVioVXLhwAdlstmXUIRJHUPl8HlNTU/53ra6uYn9/v2En3ZOgY0ZvYq8oCmeM8Wq1yg3D4IqitEx6+6larTac5BM9TB4Vx3G4qqrCR686TdpPHiAIc9K5E5F6DHqY++R8r9ucrFN5GWNcUZS2c0oZh9tt2+a6rvvz4YEdvCgWiwNrtGdBOp0OfTTSMAyph5NPClqPsk7Mci5WXplxyBQ4sXRdp8TqoFgs9tRz9/OSpiD1KPtSomG5pEmmwHMs7wmwpFGtVkMmk8HKykroyXc8HsfW1ha+ffsm/SLcbvVYKpWwurqKjx8/SpunBilvP+KQiW507NHU1BRUVUWpVBp0KGSI0I2OPchmszg8PAx8aJ38PajHCsmyLFy/fh2madJvXZEW1GOF4LouZmdnkcvlhJMqk8nQb2b9BSixQvDuNA7z21fb29sSIiLDRuhaQXJ8hn57exv7+/vC65ZKJdi2jXPnzkmIjAwTmmMJqNVquHz5cs/boXnZn4+GggKePn066BDIGUE9FiESUI8VQr1ex+joaODPZ7NZxGIxjI+P9/SINHJ2UGKFkEgk8PPnTwD/P7yyefF+Y7hUKuHTp0/gnOPBgwe4c+fOIEMnfUKJJchLJO8eKe9O3ubFu7N1fX0dMzMzAIC5ublQRxPJ2UOJJSiZTELTNFy9ejXQ54+Ojvx/0w8n/D0osUI4ODjwr2TvNhQcGRnx1xv08zhI/1BiCarVahgfH4dlWajX612Hgjdu3MDOzg5c18Xbt2+hadqAS0D6gRIrhEqlgs3NzUD3Cc3NzQEAxsbG8OzZM/9HFMifjc5jESIB9ViESECJRYgElFiESECJRYgElFiESECJRYgElFiESECJRYgElFiESECJRYgElFiESPAfnTjaozis9IAAAAAASUVORK5CYII=)"
      ]
    },
    {
      "cell_type": "code",
      "metadata": {
        "id": "EKAXbu-IivrX"
      },
      "source": [
        "def Stat_Kurtosis(i, mean, prob_density):\n",
        "    kurtosis_component = (pow((i-mean),4) * prob_density) - 3\n",
        "    return kurtosis_component"
      ],
      "execution_count": null,
      "outputs": []
    },
    {
      "cell_type": "markdown",
      "metadata": {
        "id": "qs3OLvacBq35"
      },
      "source": [
        "Energy of a pixel calculation\n",
        "\n",
        "![image.png](data:image/png;base64,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)"
      ]
    },
    {
      "cell_type": "code",
      "metadata": {
        "id": "Ml-0StSiiyxG"
      },
      "source": [
        "def Stat_Energy(prob_density):\n",
        "    energy = pow(prob_density,2)\n",
        "    return energy"
      ],
      "execution_count": null,
      "outputs": []
    },
    {
      "cell_type": "code",
      "metadata": {
        "id": "CvLuneH1i5m-"
      },
      "source": [
        "#function for 4: contrast, skewness, kurtosis, energy\n",
        "def Stat_Features_Set1(i, mean, prob_density):\n",
        "    avg_contrast = pow((i - mean), 2) * prob_density\n",
        "    skewness_component = pow((i - mean), 3) * prob_density\n",
        "    kurtosis_component = (pow((i - mean), 4) * prob_density) - 3\n",
        "    energy = pow(prob_density, 2)\n",
        "    return avg_contrast, skewness_component, kurtosis_component, energy"
      ],
      "execution_count": null,
      "outputs": []
    },
    {
      "cell_type": "code",
      "metadata": {
        "id": "b-nRjPuZjFjW"
      },
      "source": [
        "def calc_Stat_Features(img):\n",
        "    Return_Set = []\n",
        "    stat_mean=0\n",
        "    stat_avg_contrast=0\n",
        "    skewness_component=0\n",
        "    kurtosis_component=0\n",
        "    stat_energy=0\n",
        "    hist = calcHistogram(img)\n",
        "    size = img.size\n",
        "\n",
        "    for i in range(G):\n",
        "        p_d = calc_Probability_Density(hist[i], size)\n",
        "        stat_mean += Stat_Mean(i, p_d)\n",
        "        \n",
        "    for i in range(G):\n",
        "        p_d = calc_Probability_Density(hist[i], size)\n",
        "        p1, p2, p3, p4 = Stat_Features_Set1(i, stat_mean, p_d)\n",
        "        stat_avg_contrast += p1  # variance^2 (avg_contrast)\n",
        "        skewness_component += p2 #skewness_component\n",
        "        kurtosis_component += p3 #kurtosis_component\n",
        "        stat_energy += p4 #energy\n",
        "\n",
        "    skewness = pow(stat_avg_contrast,(-3/2)) * skewness_component\n",
        "    kurtosis = pow(stat_avg_contrast,(-4/2)) * kurtosis_component\n",
        "    return stat_mean, stat_avg_contrast, skewness, kurtosis, stat_energy"
      ],
      "execution_count": null,
      "outputs": []
    },
    {
      "cell_type": "markdown",
      "metadata": {
        "id": "QHhm_PahFAYG"
      },
      "source": [
        "### Gabor Wavelet Feature Extraction"
      ]
    },
    {
      "cell_type": "markdown",
      "metadata": {
        "id": "3H4Tt35NQ3cq"
      },
      "source": [
        "The Gabor function used,\n",
        "\n",
        "![image.png](data:image/png;base64,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)\n",
        "\n",
        "    where, x^'=xcos⁡θ + ysin⁡θ\n",
        "\t  y^'=-xsin⁡θ + ycos⁡θ\n",
        "\t  λ=wavelength of the sine component\n",
        "\t  θ=orientation of the parallel lines formed by the kernel\n",
        "\t  ψ=phase offset\n",
        "\t  σ=standard deviation of the gaussian envelope\n",
        "\t  ϒ=aspect ratio\n"
      ]
    },
    {
      "cell_type": "markdown",
      "metadata": {
        "id": "mJFnDx6xSmMZ"
      },
      "source": [
        "![image.png](data:image/png;base64,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)"
      ]
    },
    {
      "cell_type": "code",
      "metadata": {
        "id": "ZpoKFl0PjKeV"
      },
      "source": [
        "def gaborFilter(img):\n",
        "    num = 1\n",
        "    fimg_list = []\n",
        "    for theta in range(3):  # 0, 45, 90\n",
        "        theta = theta / 4 * np.pi  # theta 0, 1/4, 1/2 => 0, 45, 90\n",
        "        for theta_i in (theta - 10, theta - 5, theta):\n",
        "            for sigma in (3, 5):\n",
        "                for lamda in np.arange(np.pi / 2, np.pi, np.pi / 4):\n",
        "                    for gamma in (0.05, 0.5):\n",
        "                        gabor_label = 'Gabor' + str(num)\n",
        "                        kernel = cv2.getGaborKernel((5, 5), sigma, theta_i, lamda, gamma, 0,\n",
        "                                                    ktype=cv2.CV_32F)  # ktype is the data type. so it's saying that after the kernel is generated, store it as 32 float\n",
        "                       \n",
        "                        fimg = cv2.filter2D(img, cv2.CV_8UC3, kernel)\n",
        "                        filtered_img = fimg.reshape(-1)\n",
        "                  \n",
        "                        fimg_list.append(fimg)\n",
        "                        \n",
        "                        num += 1\n",
        "    return fimg_list"
      ],
      "execution_count": null,
      "outputs": []
    },
    {
      "cell_type": "markdown",
      "metadata": {
        "id": "-xkEjErxSCT3"
      },
      "source": [
        "### Edge Detected Features"
      ]
    },
    {
      "cell_type": "code",
      "metadata": {
        "id": "lC3oc8HqjNx5"
      },
      "source": [
        "def cannyEdge(img):\n",
        "    edges = cv2.Canny(img, 100, 200)\n",
        "    edges2 = edges.reshape(-1)\n",
        "    return edges2"
      ],
      "execution_count": null,
      "outputs": []
    },
    {
      "cell_type": "code",
      "metadata": {
        "id": "gBbU5-n0jQuW"
      },
      "source": [
        "def edge_roberts(img):\n",
        "    edge_robert = roberts(img)\n",
        "    edge_robert2 = edge_robert.reshape(-1)\n",
        "    return edge_robert2"
      ],
      "execution_count": null,
      "outputs": []
    },
    {
      "cell_type": "code",
      "metadata": {
        "id": "ZS-ZsjndjTcV"
      },
      "source": [
        "def edge_sobel(img):\n",
        "    edge_sobel1 = sobel(img)\n",
        "    edge_sobel2 = edge_sobel1.reshape(-1)\n",
        "    return edge_sobel2"
      ],
      "execution_count": null,
      "outputs": []
    },
    {
      "cell_type": "code",
      "metadata": {
        "id": "MkUww_XmjWO6"
      },
      "source": [
        "def edge_scharr(img):\n",
        "    edge_scharr1 = scharr(img)\n",
        "    edge_scharr2 = edge_scharr1.reshape(-1)\n",
        "    return edge_scharr2"
      ],
      "execution_count": null,
      "outputs": []
    },
    {
      "cell_type": "code",
      "metadata": {
        "id": "XGaQtDmQjY7o"
      },
      "source": [
        "def edge_prewitt(img):\n",
        "    edge_prewitt1 = prewitt(img)\n",
        "    edge_prewitt2 = edge_prewitt1.reshape(-1)\n",
        "    return edge_prewitt2"
      ],
      "execution_count": null,
      "outputs": []
    },
    {
      "cell_type": "markdown",
      "metadata": {
        "id": "Y3FDJ53SSII3"
      },
      "source": [
        "### Other extracted features: Gaussian S3 and S7, Entropy features"
      ]
    },
    {
      "cell_type": "code",
      "metadata": {
        "id": "Hofj_uHajbso"
      },
      "source": [
        "def gaussianFeature(img):\n",
        "    gaussian_img = nd.gaussian_filter(img, sigma = 3) #Gaussian S3\n",
        "    gaussian_img1 = gaussian_img.reshape(-1)\n",
        "    gaussian_img2 = nd.gaussian_filter(img, sigma=7) #Gaussian S7\n",
        "    gaussian_img3 = gaussian_img2.reshape(-1)\n",
        "    return gaussian_img1, gaussian_img3"
      ],
      "execution_count": null,
      "outputs": []
    },
    {
      "cell_type": "code",
      "metadata": {
        "id": "PrcY19lDjjfZ"
      },
      "source": [
        "def entropyFeature(img):\n",
        "    entropy_img = entropy(img, disk(1))\n",
        "    entropy_img1 = entropy_img.reshape(-1)\n",
        "    return entropy_img1"
      ],
      "execution_count": null,
      "outputs": []
    },
    {
      "cell_type": "markdown",
      "metadata": {
        "id": "5r873KsdSSxp"
      },
      "source": [
        "### GLCM Feature Extraction"
      ]
    },
    {
      "cell_type": "code",
      "metadata": {
        "id": "OhH4vN_Kjmbg"
      },
      "source": [
        "def glcmFeatures(img):\n",
        "    glcm = greycomatrix(img, distances=[5], angles=[0], levels=256, symmetric=True, normed=True)\n",
        "    diss_sim = greycoprops(glcm, 'dissimilarity')[0, 0] # [0,0] to convert array to value\n",
        "    corr = greycoprops(glcm, 'correlation')[0, 0]\n",
        "    homogen = greycoprops(glcm, 'homogeneity')[0, 0]\n",
        "    energy = greycoprops(glcm, 'energy')[0, 0]\n",
        "    contrast = greycoprops(glcm, 'contrast')[0, 0]\n",
        "    return diss_sim, corr, homogen, energy, contrast"
      ],
      "execution_count": null,
      "outputs": []
    },
    {
      "cell_type": "markdown",
      "source": [
        "### Preparing for Feature extraction"
      ],
      "metadata": {
        "id": "5R7U1UaxmLVT"
      }
    },
    {
      "cell_type": "markdown",
      "metadata": {
        "id": "rfz79pPYW-aW"
      },
      "source": [
        "Defining the lists needed to store the calculated features for each image."
      ]
    },
    {
      "cell_type": "code",
      "metadata": {
        "id": "KkTe0poqjz4p"
      },
      "source": [
        "contrast_stretched_image_list = []\n",
        "num_CS = 0\n",
        "Canny_Edges_list = []\n",
        "Edge_Roberts_List = []\n",
        "Edge_Sobel_List = []\n",
        "Edge_Scharr_List = []\n",
        "Edge_Prewitt_List = []\n",
        "Gaussian_img1_List = []\n",
        "Gaussian_img3_List = []\n",
        "Variance_list = []\n",
        "Stat_Mean_List = []\n",
        "Stat_Avg_Contrast_List = []\n",
        "Stat_Skewness_List = []\n",
        "Stat_Kurtosis_List = []\n",
        "Stat_Energy_List = []\n",
        "Stat_Entropy_List = []\n",
        "Gabor_Individual_List = []\n",
        "GLCM_diss_sim_List = []\n",
        "GLCM_corr_List = []\n",
        "GLCM_homogen_List = []\n",
        "GLCM_energy_List = []\n",
        "GLCM_contrast_List = []"
      ],
      "execution_count": null,
      "outputs": []
    },
    {
      "cell_type": "code",
      "metadata": {
        "id": "iiPA4qF5WVeK"
      },
      "source": [
        "df = pd.DataFrame()\n",
        "#df_sift = pd.DataFrame()\n",
        "df_newFeatures1 = pd.DataFrame()"
      ],
      "execution_count": null,
      "outputs": []
    },
    {
      "cell_type": "markdown",
      "source": [
        "### Feature Extraction"
      ],
      "metadata": {
        "id": "XFPi7bSqmVSp"
      }
    },
    {
      "cell_type": "markdown",
      "metadata": {
        "id": "u5ubz_dWXFw0"
      },
      "source": [
        "Extracting features for each image from the dataset."
      ]
    },
    {
      "cell_type": "code",
      "metadata": {
        "colab": {
          "base_uri": "https://localhost:8080/",
          "height": 1000
        },
        "id": "MWX-owiVj0rA",
        "outputId": "c58886f0-af0f-4d32-80e0-91fbd495472e"
      },
      "source": [
        "for img in list_3:\n",
        "  print(\"length of images list, \", len(list_3))\n",
        "  cropped_img = crop_image(img)\n",
        "  CS_img = contrastStretching(cropped_img)\n",
        "  contrast_stretched_image_list.append(CS_img)\n",
        "  gaussian_img = gaussianBlur(CS_img)\n",
        "\n",
        "  canny_edges2 = cannyEdge(gaussian_img)\n",
        "  avg_canny_edges2 = findAverage(canny_edges2)\n",
        "  Canny_Edges_list.append(avg_canny_edges2)\n",
        "\n",
        "  edge_robert2 = edge_roberts(gaussian_img)\n",
        "  avg_edge_roberts2 = findAverage(edge_robert2)\n",
        "  Edge_Roberts_List.append(avg_edge_roberts2)\n",
        "\n",
        "  edge_sobel2 = edge_sobel(gaussian_img)\n",
        "  avg_edge_sobel2 = findAverage(edge_sobel2)\n",
        "  Edge_Sobel_List.append(avg_edge_sobel2)\n",
        "\n",
        "  edge_scharr2 = edge_scharr(gaussian_img)\n",
        "  avg_edge_scharr2 = findAverage(edge_scharr2)\n",
        "  Edge_Scharr_List.append(avg_edge_scharr2)\n",
        "\n",
        "  edge_prewitt2 = edge_prewitt(gaussian_img)\n",
        "  avg_edge_prewitt2 = findAverage(edge_prewitt2)\n",
        "  Edge_Prewitt_List.append(avg_edge_prewitt2)\n",
        "\n",
        "  gaussian_img1, gaussian_img3 = gaussianFeature(gaussian_img)\n",
        "  avg_gaussian_img1 = findAverage(gaussian_img1)\n",
        "  avg_gaussian_img3 = findAverage(gaussian_img3)\n",
        "  Gaussian_img1_List.append(avg_gaussian_img1)\n",
        "  Gaussian_img3_List.append(avg_gaussian_img3)\n",
        "\n",
        "  entropy_img1 = entropyFeature(gaussian_img)\n",
        "  avg_entropy_img1 = findAverage(entropy_img1)\n",
        "  Variance_list.append(avg_entropy_img1)\n",
        "\n",
        "  gabor_images = gaborFilter(gaussian_img)\n",
        "  total_gabor_image_values = [] #42 elements\n",
        "  for img in gabor_images:\n",
        "    g = img.reshape(-1)\n",
        "    avg_g = findAverage(g)\n",
        "    total_gabor_image_values.append(avg_g)\n",
        "  \n",
        "  Gabor_Individual_List.append(total_gabor_image_values)\n",
        "\n",
        "  stat_mean, stat_avg_contrast, skewness, kurtosis, stat_energy = calc_Stat_Features(gaussian_img)\n",
        "  Stat_Mean_List.append(stat_mean)\n",
        "  Stat_Avg_Contrast_List .append(stat_avg_contrast)\n",
        "  Stat_Skewness_List.append(skewness)\n",
        "  Stat_Kurtosis_List.append(kurtosis)\n",
        "  Stat_Energy_List.append(stat_energy)\n",
        "\n",
        "  diss_sim, corr, homogen, energy, contrast = glcmFeatures(gaussian_img)\n",
        "  GLCM_diss_sim_List.append(diss_sim)\n",
        "  GLCM_corr_List.append(corr)\n",
        "  GLCM_homogen_List.append(homogen)\n",
        "  GLCM_energy_List.append(energy)\n",
        "  GLCM_contrast_List.append(contrast)\n",
        "\n",
        "  print(num_CS)\n",
        "  num_CS = num_CS + 1\n",
        "  "
      ],
      "execution_count": null,
      "outputs": [
        {
          "output_type": "stream",
          "name": "stdout",
          "text": [
            "length of images list,  100\n",
            "0\n",
            "length of images list,  100\n",
            "1\n",
            "length of images list,  100\n",
            "2\n",
            "length of images list,  100\n",
            "3\n",
            "length of images list,  100\n",
            "4\n",
            "length of images list,  100\n",
            "5\n",
            "length of images list,  100\n",
            "6\n",
            "length of images list,  100\n",
            "7\n",
            "length of images list,  100\n",
            "8\n",
            "length of images list,  100\n",
            "9\n",
            "length of images list,  100\n",
            "10\n",
            "length of images list,  100\n",
            "11\n",
            "length of images list,  100\n",
            "12\n",
            "length of images list,  100\n",
            "13\n",
            "length of images list,  100\n",
            "14\n",
            "length of images list,  100\n",
            "15\n",
            "length of images list,  100\n",
            "16\n",
            "length of images list,  100\n",
            "17\n",
            "length of images list,  100\n",
            "18\n",
            "length of images list,  100\n",
            "19\n",
            "length of images list,  100\n",
            "20\n",
            "length of images list,  100\n",
            "21\n",
            "length of images list,  100\n",
            "22\n",
            "length of images list,  100\n",
            "23\n",
            "length of images list,  100\n",
            "24\n",
            "length of images list,  100\n",
            "25\n",
            "length of images list,  100\n",
            "26\n",
            "length of images list,  100\n",
            "27\n",
            "length of images list,  100\n",
            "28\n",
            "length of images list,  100\n",
            "29\n",
            "length of images list,  100\n",
            "30\n",
            "length of images list,  100\n",
            "31\n",
            "length of images list,  100\n",
            "32\n",
            "length of images list,  100\n",
            "33\n",
            "length of images list,  100\n",
            "34\n",
            "length of images list,  100\n",
            "35\n",
            "length of images list,  100\n",
            "36\n",
            "length of images list,  100\n",
            "37\n",
            "length of images list,  100\n",
            "38\n",
            "length of images list,  100\n",
            "39\n",
            "length of images list,  100\n",
            "40\n",
            "length of images list,  100\n",
            "41\n",
            "length of images list,  100\n",
            "42\n",
            "length of images list,  100\n",
            "43\n",
            "length of images list,  100\n",
            "44\n",
            "length of images list,  100\n",
            "45\n",
            "length of images list,  100\n",
            "46\n",
            "length of images list,  100\n",
            "47\n",
            "length of images list,  100\n",
            "48\n",
            "length of images list,  100\n",
            "49\n",
            "length of images list,  100\n",
            "50\n",
            "length of images list,  100\n",
            "51\n",
            "length of images list,  100\n",
            "52\n",
            "length of images list,  100\n",
            "53\n",
            "length of images list,  100\n",
            "54\n",
            "length of images list,  100\n",
            "55\n",
            "length of images list,  100\n",
            "56\n",
            "length of images list,  100\n",
            "57\n",
            "length of images list,  100\n",
            "58\n",
            "length of images list,  100\n",
            "59\n",
            "length of images list,  100\n",
            "60\n",
            "length of images list,  100\n",
            "61\n",
            "length of images list,  100\n",
            "62\n",
            "length of images list,  100\n",
            "63\n",
            "length of images list,  100\n",
            "64\n",
            "length of images list,  100\n",
            "65\n",
            "length of images list,  100\n",
            "66\n",
            "length of images list,  100\n",
            "67\n",
            "length of images list,  100\n",
            "68\n",
            "length of images list,  100\n",
            "69\n",
            "length of images list,  100\n",
            "70\n",
            "length of images list,  100\n",
            "71\n",
            "length of images list,  100\n",
            "72\n",
            "length of images list,  100\n",
            "73\n",
            "length of images list,  100\n",
            "74\n",
            "length of images list,  100\n",
            "75\n",
            "length of images list,  100\n",
            "76\n",
            "length of images list,  100\n",
            "77\n",
            "length of images list,  100\n",
            "78\n",
            "length of images list,  100\n",
            "79\n",
            "length of images list,  100\n",
            "80\n",
            "length of images list,  100\n",
            "81\n",
            "length of images list,  100\n",
            "82\n",
            "length of images list,  100\n",
            "83\n",
            "length of images list,  100\n",
            "84\n",
            "length of images list,  100\n",
            "85\n",
            "length of images list,  100\n",
            "86\n",
            "length of images list,  100\n",
            "87\n",
            "length of images list,  100\n",
            "88\n",
            "length of images list,  100\n",
            "89\n",
            "length of images list,  100\n",
            "90\n",
            "length of images list,  100\n",
            "91\n",
            "length of images list,  100\n",
            "92\n",
            "length of images list,  100\n",
            "93\n",
            "length of images list,  100\n",
            "94\n",
            "length of images list,  100\n",
            "95\n",
            "length of images list,  100\n",
            "96\n",
            "length of images list,  100\n",
            "97\n",
            "length of images list,  100\n",
            "98\n",
            "length of images list,  100\n",
            "99\n"
          ]
        },
        {
          "output_type": "display_data",
          "data": {
            "text/plain": [
              "<Figure size 432x288 with 1 Axes>"
            ],
            "image/png": "[encoded data removed]"
          },
          "metadata": {
            "needs_background": "light"
          }
        }
      ]
    },
    {
      "cell_type": "code",
      "metadata": {
        "id": "TTvIIWbwQe9Z"
      },
      "source": [
        "Gabor_Total_Dict = {}\n",
        "for i in range(len(Gabor_Individual_List[0])):\n",
        "  Gabor_Total_Dict['GB'+str(i)]=[]\n",
        "\n",
        "for i in Gabor_Individual_List:\n",
        "  image_values = i\n",
        "  num = 0\n",
        "  for j in image_values:\n",
        "    label = 'GB'+str(num)\n",
        "    val = Gabor_Total_Dict[label]\n",
        "    val.append(j)\n",
        "    Gabor_Total_Dict[label] = val\n",
        "    num += 1\n",
        "\n",
        "print(\"Length of the Gabor dictionary\", len(Gabor_Total_Dict))\n",
        "Gray_Images_List = []\n",
        "for i in range(len(list_3)):\n",
        "  Gray_Images_List.append(i+1)"
      ],
      "execution_count": null,
      "outputs": []
    },
    {
      "cell_type": "code",
      "metadata": {
        "id": "8BvL2bQ8DNcc"
      },
      "source": [
        "from google.colab import drive\n",
        "drive.mount('drive')"
      ],
      "execution_count": null,
      "outputs": []
    },
    {
      "cell_type": "markdown",
      "metadata": {
        "id": "JsDKwlGUXdQY"
      },
      "source": [
        "### Putting the extracted feature data into a Pandas Dataframe."
      ]
    },
    {
      "cell_type": "code",
      "metadata": {
        "id": "k8AOXIZM_8jg"
      },
      "source": [
        "df_newFeatures1['Gray Level Images'] = Gray_Images_List\n",
        "df_newFeatures1['CannyEdge'] = Canny_Edges_list\n",
        "df_newFeatures1['EdgeRoberts'] = Edge_Roberts_List\n",
        "df_newFeatures1['EdgeSobel'] = Edge_Sobel_List\n",
        "df_newFeatures1['EdgeScharr'] = Edge_Scharr_List\n",
        "df_newFeatures1['EdgePrewitt'] = Edge_Prewitt_List\n",
        "df_newFeatures1['StatMean'] = Stat_Mean_List\n",
        "df_newFeatures1['StatAvgContrast'] = Stat_Avg_Contrast_List\n",
        "df_newFeatures1['StatSkewness'] = Stat_Skewness_List\n",
        "df_newFeatures1['StatKurtosis'] = Stat_Kurtosis_List\n",
        "df_newFeatures1['StatEnergy'] = Stat_Energy_List\n",
        "# df_newFeatures1['StatEntropy'] = Stat_Entropy_List\n",
        "df_newFeatures1['Gaussian1'] = Gaussian_img1_List\n",
        "df_newFeatures1['Gaussian3'] = Gaussian_img3_List\n",
        "df_newFeatures1['Entropy'] = Variance_list\n",
        "\n",
        "Gabor_num = 0\n",
        "for i in range(len(Gabor_Total_Dict)):\n",
        "  label = 'GB' + str(Gabor_num)\n",
        "  val = Gabor_Total_Dict[label]\n",
        "  df_newFeatures1[label] = val\n",
        "  Gabor_num += 1\n",
        "\n",
        "df_newFeatures1['GLCM_Diss_similarity'] = GLCM_diss_sim_List\n",
        "df_newFeatures1['GLCM_Correlation'] = GLCM_corr_List\n",
        "df_newFeatures1['GLCM_Homogeneity'] = GLCM_homogen_List\n",
        "df_newFeatures1['GLCM_Energy'] = GLCM_energy_List\n",
        "df_newFeatures1['GLCM_Contrast'] = GLCM_contrast_List\n",
        "\n",
        "print(df_newFeatures1.head())\n",
        "\n",
        "df_newFeatures1.to_csv('drive/MyDrive/UOM/FYP/Features.csv')\n",
        "print(\"end\")"
      ],
      "execution_count": null,
      "outputs": []
    },
    {
      "cell_type": "markdown",
      "metadata": {
        "id": "IKj0MtxbXodY"
      },
      "source": [
        "### Plotting the Feature data"
      ]
    },
    {
      "cell_type": "code",
      "metadata": {
        "id": "uXcmLmXxPhnN"
      },
      "source": [
        "plt.plot(df_newFeatures1['Gray Level Images'], df_newFeatures1['StatAvgContrast'], label=\"StatAvgContrast\")\n",
        "plt.xlabel('Gray Images in the dataset')\n",
        "plt.title('Distribution of features of Gray Level images - Set 1')\n",
        "plt.legend()\n",
        "plt.show()"
      ],
      "execution_count": null,
      "outputs": []
    },
    {
      "cell_type": "code",
      "metadata": {
        "id": "JwO400jPR4WH"
      },
      "source": [
        "plt.plot(df_newFeatures1['Gray Level Images'], df_newFeatures1['CannyEdge'], label=\"CannyEdge\")\n",
        "plt.plot(df_newFeatures1['Gray Level Images'], df_newFeatures1['EdgeRoberts'], label=\"EdgeRoberts\")\n",
        "plt.plot(df_newFeatures1['Gray Level Images'], df_newFeatures1['EdgeSobel'], label=\"EdgeSobel\")\n",
        "plt.plot(df_newFeatures1['Gray Level Images'], df_newFeatures1['EdgeScharr'], label=\"EdgeScharr\")\n",
        "plt.plot(df_newFeatures1['Gray Level Images'], df_newFeatures1['EdgePrewitt'], label=\"EdgePrewitt\")\n",
        "plt.plot(df_newFeatures1['Gray Level Images'], df_newFeatures1['StatMean'], label=\"StatMean\")\n",
        "    #plt.plot(features['Gray Level Images'], features['StatAvgContrast'], label=\"StatAvgContrast\")\n",
        "plt.plot(df_newFeatures1['Gray Level Images'], df_newFeatures1['StatSkewness'], label=\"StatSkewness\")\n",
        "plt.plot(df_newFeatures1['Gray Level Images'], df_newFeatures1['StatKurtosis'], label=\"StatKurtosis\")\n",
        "plt.plot(df_newFeatures1['Gray Level Images'], df_newFeatures1['StatEnergy'], label=\"StatEnergy\")\n",
        "plt.plot(df_newFeatures1['Gray Level Images'], df_newFeatures1['Gaussian1'], label=\"Gaussian1\")\n",
        "plt.plot(df_newFeatures1['Gray Level Images'], df_newFeatures1['Gaussian3'], label=\"Gaussian3\")\n",
        "plt.plot(df_newFeatures1['Gray Level Images'], df_newFeatures1['Entropy'], label=\"Entropy\")\n",
        "\n",
        "plt.plot(df_newFeatures1['Gray Level Images'], df_newFeatures1['GLCM_Diss_similarity'], label=\"GLCM_Diss_similarity\")\n",
        "plt.plot(df_newFeatures1['Gray Level Images'], df_newFeatures1['GLCM_Correlation'], label=\"GLCM_Correlation\")\n",
        "plt.plot(df_newFeatures1['Gray Level Images'], df_newFeatures1['GLCM_Homogeneity'], label=\"GLCM_Homogeneity\")\n",
        "plt.plot(df_newFeatures1['Gray Level Images'], df_newFeatures1['GLCM_Energy'], label=\"GLCM_Energy\")\n",
        "plt.plot(df_newFeatures1['Gray Level Images'], df_newFeatures1['GLCM_Contrast'], label=\"GLCM_Contrast\")\n",
        "plt.xlabel('Gray Images in the dataset')\n",
        "plt.title('Distribution of features of Gray Level images - Set 2')\n",
        "plt.legend()\n",
        "plt.show()\n"
      ],
      "execution_count": null,
      "outputs": []
    },
    {
      "cell_type": "code",
      "metadata": {
        "id": "7t4-9CQlR-9E"
      },
      "source": [
        "Gabor_plot_label_i = 0\n",
        "for i in range(31):\n",
        "  Gabor_plot_label = 'GB' + str(i)\n",
        "  plt.plot(df_newFeatures1['Gray Level Images'], df_newFeatures1[Gabor_plot_label], label=Gabor_plot_label)\n",
        "  Gabor_plot_label_i += 1\n",
        "\n",
        "plt.xlabel('Gray Images in the dataset-Set 1')\n",
        "plt.title('Distribution of features of Gray Level images - Set 3')\n",
        "plt.legend()\n",
        "plt.show()"
      ],
      "execution_count": null,
      "outputs": []
    },
    {
      "cell_type": "markdown",
      "metadata": {
        "id": "FQIWaODgXymw"
      },
      "source": [
        "## Performing Principal Component Analysis for Dimensionlity Reduction."
      ]
    },
    {
      "cell_type": "code",
      "metadata": {
        "id": "dRijU3bhIbUy"
      },
      "source": [
        "def performPCA():\n",
        "    print(\"Performing PCA\")\n",
        "    featureset = df_newFeatures1\n",
        "    featureset.drop(['Gray Level Images'], axis = 1, inplace = True)\n",
        "    print(featureset.head())\n",
        "\n",
        "    #Standardize the data (The first step of PCA)\n",
        "    X_std = StandardScaler().fit_transform(featureset)\n",
        "    print(X_std.shape)\n",
        "\n",
        "    #compute covariance matrix\n",
        "    mean_vec= np.mean(X_std, axis=0)\n",
        "    cov_mat = (X_std - mean_vec).T.dot((X_std-mean_vec)) / (X_std.shape[0]-1)\n",
        "    print('Covariance matrix: \\n%s' %cov_mat)\n",
        "\n",
        "    #Get eigen values\n",
        "    cov_mat = np.cov(X_std.T)\n",
        "    eig_vals, eig_vecs = np.linalg.eig(cov_mat)\n",
        "\n",
        "    eig_pairs = [(np.abs(eig_vals[i]), eig_vecs[:,i]) for i in range(len(eig_vals))]\n",
        "\n",
        "    pca = sklearnPCA(n_components=2)\n",
        "    pca.fit_transform(featureset)\n",
        "    print('PCA Variance ratio: ', pca.explained_variance_ratio_)\n",
        "    principalComponents_features = pca.fit_transform(X_std)\n",
        "    principal_features = pd.DataFrame(data=principalComponents_features, columns=['principal component 1', 'principal component 2'])\n",
        "    print(principal_features)\n",
        "    principal_features.to_csv('drive/MyDrive/UOM/FYP/PCAFeatures.csv')\n",
        "\n",
        "    pca = sklearnPCA().fit(X_std)\n",
        "    plt.plot(np.cumsum(pca.explained_variance_ratio_))\n",
        "    plt.xlabel('number of components')\n",
        "    plt.ylabel('cumulative explained variance')\n",
        "    plt.show()\n",
        "\n",
        "    x = []\n",
        "    y = principal_features['principal component 1']\n",
        "    for i in range(len(list_3)):\n",
        "        x.append(i)\n",
        "    plt.plot(x,y)\n",
        "    plt.xlabel('number of images')\n",
        "    plt.ylabel('PCA1')\n",
        "    plt.show()\n",
        "\n",
        "    y_pca2 = principal_features['principal component 2']\n",
        "    plt.plot(x, y_pca2)\n",
        "    plt.xlabel('number of images')\n",
        "    plt.ylabel('PCA2')\n",
        "    plt.show()\n"
      ],
      "execution_count": null,
      "outputs": []
    },
    {
      "cell_type": "code",
      "metadata": {
        "id": "WUjdDhXmNiJ8"
      },
      "source": [
        "performPCA()"
      ],
      "execution_count": null,
      "outputs": []
    },
    {
      "cell_type": "markdown",
      "source": [
        "## ARIMA"
      ],
      "metadata": {
        "id": "TbQCi5yzt0ZJ"
      }
    },
    {
      "cell_type": "markdown",
      "source": [
        "### Reading and splitting the dataset"
      ],
      "metadata": {
        "id": "UuMCazo3wFXZ"
      }
    },
    {
      "cell_type": "code",
      "source": [
        "file = pd.read_csv('/content/drive/MyDrive/UOM/FYP/PCAFeatures.csv')\n",
        "print(file)"
      ],
      "metadata": {
        "id": "f2j18i7Mt85f"
      },
      "execution_count": null,
      "outputs": []
    },
    {
      "cell_type": "code",
      "source": [
        "from statsmodels.tsa.arima_model import ARIMA"
      ],
      "metadata": {
        "id": "kjCzdLZ0g-4v"
      },
      "execution_count": null,
      "outputs": []
    },
    {
      "cell_type": "code",
      "source": [
        "PCA1 = file[\"principal component 1\"] \n",
        "print(PCA1)"
      ],
      "metadata": {
        "id": "3w_77KiFhEvP"
      },
      "execution_count": null,
      "outputs": []
    },
    {
      "cell_type": "code",
      "source": [
        "#size = int(len(PCA1) * 0.45)\n",
        "#end = len(PCA1) - 20\n",
        "#train, test = PCA1[0:size], PCA1[size:len(PCA1)]\n",
        "train, test = PCA1[0:anomaly_image], PCA1[anomaly_image:len(PCA1)]\n",
        "#train, test = X[0:size], X[size:end]\n",
        "print(train)\n",
        "print(test)"
      ],
      "metadata": {
        "id": "-RFusVdRkPSE"
      },
      "execution_count": null,
      "outputs": []
    },
    {
      "cell_type": "code",
      "source": [
        "#PCA1.describe()\n",
        "train.describe()"
      ],
      "metadata": {
        "id": "yiTRzXUDf3x-"
      },
      "execution_count": null,
      "outputs": []
    },
    {
      "cell_type": "code",
      "source": [
        "#model = ARIMA(PCA1, order=(5,1,0))\n",
        "#model_fit = model.fit()\n",
        "#print(model_fit.summary())"
      ],
      "metadata": {
        "id": "sImBQWuuntYW"
      },
      "execution_count": null,
      "outputs": []
    },
    {
      "cell_type": "code",
      "source": [
        "print(train.values) #PCA1\n",
        "X = train.values"
      ],
      "metadata": {
        "id": "8FGhHfFppmCi"
      },
      "execution_count": null,
      "outputs": []
    },
    {
      "cell_type": "markdown",
      "source": [
        "### ADF Test"
      ],
      "metadata": {
        "id": "02wJI3rge5NG"
      }
    },
    {
      "cell_type": "code",
      "source": [
        "from statsmodels.tsa.stattools import adfuller\n",
        "\n",
        "result = adfuller(train.dropna()) #PCA1\n",
        "print(f\"ADF Statistic: {result[0]}\")\n",
        "print(f\"p-value: {result[1]}\")"
      ],
      "metadata": {
        "id": "_t_RamBOe4Y1"
      },
      "execution_count": null,
      "outputs": []
    },
    {
      "cell_type": "code",
      "source": [
        "from pmdarima.arima.utils import ndiffs"
      ],
      "metadata": {
        "id": "dom5_s9-ghd5"
      },
      "execution_count": null,
      "outputs": []
    },
    {
      "cell_type": "code",
      "source": [
        "number_of_diffs = ndiffs(train, test=\"adf\") #PCA1\n",
        "#ndiffs(train, test=\"adf\") #PCA1\n",
        "print(number_of_diffs)"
      ],
      "metadata": {
        "id": "PITU4DqThP3-"
      },
      "execution_count": null,
      "outputs": []
    },
    {
      "cell_type": "markdown",
      "source": [
        "### Plotting ACF and PACF"
      ],
      "metadata": {
        "id": "fLJYAgdbvHhs"
      }
    },
    {
      "cell_type": "code",
      "source": [
        "from statsmodels.graphics.tsaplots import plot_acf"
      ],
      "metadata": {
        "id": "Od8mpiPZhWJV"
      },
      "execution_count": null,
      "outputs": []
    },
    {
      "cell_type": "code",
      "source": [
        "from statsmodels.graphics.tsaplots import plot_pacf"
      ],
      "metadata": {
        "id": "EnPKY56OgWT0"
      },
      "execution_count": null,
      "outputs": []
    },
    {
      "cell_type": "code",
      "source": [
        "fig, (ax1, ax2) = plt.subplots(1, 2, figsize=(16, 4))\n",
        "\n",
        "ax1.plot(train) #PCA1\n",
        "ax1.set_title(\"Original\")\n",
        "# add ; at the end of the plot function so that the plot is not duplicated\n",
        "plot_acf(train, ax=ax2); #PCA1"
      ],
      "metadata": {
        "id": "KVP6JzMXYuua"
      },
      "execution_count": null,
      "outputs": []
    },
    {
      "cell_type": "code",
      "source": [
        "diff = []\n",
        "diff = train\n",
        "print(diff)\n",
        "for i in range(number_of_diffs):\n",
        "  diff = diff.diff().dropna() #PCA1\n",
        "  print(diff)\n",
        "#diff = train.diff().dropna() #PCA1\n",
        "\n",
        "fig, (ax1, ax2) = plt.subplots(1, 2, figsize=(16, 4))\n",
        "\n",
        "ax1.plot(diff)\n",
        "ax1.set_title(\"Differenced\")\n",
        "ax2.set_ylim(0, 1)\n",
        "plot_pacf(diff, ax=ax2);"
      ],
      "metadata": {
        "id": "jf7M35zoZMdv"
      },
      "execution_count": null,
      "outputs": []
    },
    {
      "cell_type": "code",
      "source": [
        "#print(diff)"
      ],
      "metadata": {
        "id": "kEeqT5XCHYxm"
      },
      "execution_count": null,
      "outputs": []
    },
    {
      "cell_type": "code",
      "source": [
        "#print(train)"
      ],
      "metadata": {
        "id": "yLYwwhvNTsId"
      },
      "execution_count": null,
      "outputs": []
    },
    {
      "cell_type": "markdown",
      "source": [
        "Find p from the above plot\n",
        "\n"
      ],
      "metadata": {
        "id": "xJUSgzTY9QrM"
      }
    },
    {
      "cell_type": "code",
      "source": [
        "diff = []\n",
        "diff = train\n",
        "\n",
        "for i in range(number_of_diffs):\n",
        "  diff = diff.diff().dropna() #PCA1\n",
        "  print(diff)\n",
        "\n",
        "fig, (ax1, ax2) = plt.subplots(1, 2, figsize=(16, 4))\n",
        "\n",
        "ax1.plot(diff)\n",
        "ax1.set_title(\"Differenced\")\n",
        "ax2.set_ylim(0, 1)\n",
        "plot_acf(diff, ax=ax2);"
      ],
      "metadata": {
        "id": "hGw7NdW0c9xk"
      },
      "execution_count": null,
      "outputs": []
    },
    {
      "cell_type": "markdown",
      "source": [
        "find q from the above plot"
      ],
      "metadata": {
        "id": "Z7ffj4ebKUMg"
      }
    },
    {
      "cell_type": "markdown",
      "source": [
        "### ARIMA model training"
      ],
      "metadata": {
        "id": "1iqNMjBVvWqf"
      }
    },
    {
      "cell_type": "code",
      "source": [
        "from statsmodels.tsa.arima.model import ARIMA"
      ],
      "metadata": {
        "id": "BVhTPEP8sMet"
      },
      "execution_count": null,
      "outputs": []
    },
    {
      "cell_type": "markdown",
      "source": [
        "COnsider PACF plot -> there is a cutoff shown, so the p value is 1.\n",
        "COnsider ACF plot -> this shows a dieout so the q value is 0.\n",
        "The number of differences (d) was found using the ADF test earlier and d=0"
      ],
      "metadata": {
        "id": "SLSHN8ru7vPC"
      }
    },
    {
      "cell_type": "code",
      "source": [
        "# ARIMA Model\n",
        "arima_model = ARIMA(train, order=(1, 0, 0)) #PCA1 #p,d,q order\n",
        "arima_result = arima_model.fit()\n",
        "print(arima_result.summary())"
      ],
      "metadata": {
        "id": "bMwXnNYbq4WP"
      },
      "execution_count": null,
      "outputs": []
    },
    {
      "cell_type": "markdown",
      "source": [
        "### Plotting Residuals"
      ],
      "metadata": {
        "id": "7Rox7JVZvdgE"
      }
    },
    {
      "cell_type": "code",
      "source": [
        "# Plot residual errors\n",
        "residuals = pd.DataFrame(arima_result.resid)\n",
        "print(residuals)\n",
        "\n",
        "fig, (ax1, ax2) = plt.subplots(1, 2, figsize=(16, 4))\n",
        "\n",
        "ax1.plot(residuals)\n",
        "ax2.hist(residuals, density=True)\n",
        "\n"
      ],
      "metadata": {
        "id": "ZWB7EsuKsl11"
      },
      "execution_count": null,
      "outputs": []
    },
    {
      "cell_type": "code",
      "source": [
        "print(residuals)\n",
        "\n",
        "if (number_of_diffs == 0):\n",
        "  final_residuals = residuals\n",
        "else:\n",
        "  for val in range(number_of_diffs):\n",
        "    final_residuals = residuals.drop([0], axis = 0)\n",
        "\n",
        "print(final_residuals)"
      ],
      "metadata": {
        "id": "Y0YoD6Y83fNT"
      },
      "execution_count": null,
      "outputs": []
    },
    {
      "cell_type": "code",
      "source": [
        "import matplotlib.pyplot as plt"
      ],
      "metadata": {
        "id": "Z_A3-sQU1_ug"
      },
      "execution_count": null,
      "outputs": []
    },
    {
      "cell_type": "code",
      "source": [
        "#residuals = pd.DataFrame(arima_result.resid)\n",
        "final_residuals.plot()\n",
        "plt.show()\n",
        "# density plot of final_residuals\n",
        "final_residuals.plot(kind='kde')\n",
        "plt.show()\n",
        "# summary stats of final_residuals\n",
        "print(final_residuals.describe())"
      ],
      "metadata": {
        "id": "3VRwjBHn1fIg"
      },
      "execution_count": null,
      "outputs": []
    },
    {
      "cell_type": "code",
      "source": [
        "final_residuals.plot.box(grid='True')"
      ],
      "metadata": {
        "id": "78Rkl3ju6uOA"
      },
      "execution_count": null,
      "outputs": []
    },
    {
      "cell_type": "code",
      "source": [
        "min = -0.012376 - 1.5 * (0.044124-(-0.012376)) #\n",
        "max = 0.044124 + 1.5 * (0.044124-(-0.012376))\n",
        "print(min)\n",
        "print(max)"
      ],
      "metadata": {
        "id": "tcl6yu4F7DVB"
      },
      "execution_count": null,
      "outputs": []
    },
    {
      "cell_type": "code",
      "source": [
        "from statsmodels.tsa.stattools import acf"
      ],
      "metadata": {
        "id": "wlwBqWdxgIb8"
      },
      "execution_count": null,
      "outputs": []
    },
    {
      "cell_type": "markdown",
      "source": [
        "## Forecasting"
      ],
      "metadata": {
        "id": "NfVxcxrBvnI_"
      }
    },
    {
      "cell_type": "code",
      "source": [
        "test_length = len(PCA1) - len(train)\n",
        "print(test_length)"
      ],
      "metadata": {
        "id": "VB0SlsQkGZ6x"
      },
      "execution_count": null,
      "outputs": []
    },
    {
      "cell_type": "code",
      "source": [
        "# Forecast\n",
        "#fc, se, conf = result.forecast(15, alpha=0.05) # 95% conf\n",
        "forecast = arima_result.forecast(test_length, alpha=0.05) # 95% conf\n",
        "print(forecast)"
      ],
      "metadata": {
        "id": "yQe8qvEoVY0Z"
      },
      "execution_count": null,
      "outputs": []
    },
    {
      "cell_type": "code",
      "source": [
        "# Make it a pandas series\n",
        "fc_series = pd.Series(forecast, index=test.index)\n",
        "#lower_series = pd.Series(conf[:, 0], index=test.index)\n",
        "#upper_series = pd.Series(conf[:, 1], index=test.index)\n"
      ],
      "metadata": {
        "id": "kNtCp_VYVhAK"
      },
      "execution_count": null,
      "outputs": []
    },
    {
      "cell_type": "code",
      "source": [
        "plt.figure(figsize=(12,5), dpi=100)\n",
        "plt.plot(train, label='training')\n",
        "plt.plot(test, label='actual')\n",
        "plt.plot(fc_series, label='forecast')\n",
        "#plt.fill_between(lower_series.index, lower_series, upper_series,\n",
        " #color='k', alpha=.15)\n",
        "plt.title('Forecast vs Actuals')\n",
        "plt.legend(loc='upper left', fontsize=8)\n",
        "plt.show()"
      ],
      "metadata": {
        "id": "TSWM3-_dVjpF"
      },
      "execution_count": null,
      "outputs": []
    },
    {
      "cell_type": "code",
      "source": [
        "print(fc_series)"
      ],
      "metadata": {
        "id": "0u5oSDeoF17-"
      },
      "execution_count": null,
      "outputs": []
    },
    {
      "cell_type": "markdown",
      "source": [
        "## Binary Classification"
      ],
      "metadata": {
        "id": "hPTOKGCtvuXX"
      }
    },
    {
      "cell_type": "code",
      "source": [
        "y_hat_values = []\n",
        "anomalies = []\n",
        "i = len(train)\n",
        "print(i)\n",
        "for value in fc_series:\n",
        "  #print(\"test val: \", test[i], \" - forecasted value: \", value)\n",
        "  y_hat = test[i] - value\n",
        "  y_hat_values.append(y_hat)\n",
        "  if (y_hat<min or y_hat>max):\n",
        "    anomalies.append(i)\n",
        "  i = i + 1\n",
        "\n",
        "print(y_hat_values)\n",
        "print(anomalies)\n",
        "\n",
        "#-0.017683\n",
        "#0.191975"
      ],
      "metadata": {
        "id": "qdAUhzspFa7G"
      },
      "execution_count": null,
      "outputs": []
    },
    {
      "cell_type": "code",
      "source": [
        "#forecast error series\n",
        "fe_series = pd.Series(y_hat_values, index=test.index)\n",
        "#print(fe_series)"
      ],
      "metadata": {
        "id": "eumRzNdYHFqD"
      },
      "execution_count": null,
      "outputs": []
    },
    {
      "cell_type": "code",
      "source": [
        "plt.figure(figsize=(12,5), dpi=100)\n",
        "plt.plot(final_residuals, label='residuals')\n",
        "plt.plot(fe_series, label='forecast errors')\n",
        "plt.title('Residuals Vs Forecast Errors PLot')\n",
        "plt.legend(loc='upper left', fontsize=8)\n",
        "plt.show()"
      ],
      "metadata": {
        "id": "yFoHH5mOGga4"
      },
      "execution_count": null,
      "outputs": []
    }
  ]
}