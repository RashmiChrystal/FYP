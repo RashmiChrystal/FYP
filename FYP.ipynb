{
  "nbformat": 4,
  "nbformat_minor": 0,
  "metadata": {
    "colab": {
      "name": "FYP.ipynb",
      "provenance": [],
      "collapsed_sections": [],
      "authorship_tag": "ABX9TyOPj9ztFUZi2gQtTpa7vUCT",
      "include_colab_link": true
    },
    "kernelspec": {
      "display_name": "Python 3",
      "name": "python3"
    },
    "language_info": {
      "name": "python"
    }
  },
  "cells": [
    {
      "cell_type": "markdown",
      "metadata": {
        "id": "view-in-github",
        "colab_type": "text"
      },
      "source": [
        "<a href=\"https://colab.research.google.com/github/RashmiChrystal/FYP/blob/main/FYP.ipynb\" target=\"_parent\"><img src=\"https://colab.research.google.com/assets/colab-badge.svg\" alt=\"Open In Colab\"/></a>"
      ]
    },
    {
      "cell_type": "markdown",
      "metadata": {
        "id": "_u9OpAgFb5V_"
      },
      "source": [
        "# **Anomaly Detection in Image Streams with Machine Learning**"
      ]
    },
    {
      "cell_type": "markdown",
      "metadata": {
        "id": "NvB5td9hcHsW"
      },
      "source": [
        "# **Interim Progress**"
      ]
    },
    {
      "cell_type": "markdown",
      "metadata": {
        "id": "y3tuJpWvgR7m"
      },
      "source": [
        "## Import Required Libraries"
      ]
    },
    {
      "cell_type": "code",
      "metadata": {
        "id": "1qmQJhKObfSa"
      },
      "source": [
        "import cv2\n",
        "import numpy as np\n",
        "import pandas as pd\n",
        "import os\n",
        "import glob\n",
        "import math\n",
        "from skimage.filters import roberts, sobel, scharr, prewitt\n",
        "from scipy import ndimage as nd\n",
        "from skimage.filters.rank import entropy\n",
        "from skimage.morphology import disk\n",
        "from skimage import io\n",
        "from sklearn.preprocessing import StandardScaler\n",
        "from sklearn.decomposition import PCA as sklearnPCA\n",
        "from matplotlib import pyplot as plt\n",
        "from skimage.feature import greycomatrix, greycoprops\n",
        "import io"
      ],
      "execution_count": 37,
      "outputs": []
    },
    {
      "cell_type": "markdown",
      "metadata": {
        "id": "oKQuTd04ozqm"
      },
      "source": [
        "## Upload the Dataset from a local directory."
      ]
    },
    {
      "cell_type": "markdown",
      "metadata": {
        "id": "HYY6EFqcpBaG"
      },
      "source": [
        "The dataset contains a series of images and a zipped folder is uploaded here."
      ]
    },
    {
      "cell_type": "code",
      "metadata": {
        "colab": {
          "resources": {
            "http://localhost:8080/nbextensions/google.colab/files.js": {
              "data": "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",
              "ok": true,
              "headers": [
                [
                  "content-type",
                  "application/javascript"
                ]
              ],
              "status": 200,
              "status_text": ""
            }
          },
          "base_uri": "https://localhost:8080/",
          "height": 38
        },
        "id": "nClEr5GTknjK",
        "outputId": "339b8176-4f59-48e3-8158-a57007cffb65"
      },
      "source": [
        "from google.colab import files\n",
        "uploadedData = files.upload()"
      ],
      "execution_count": 38,
      "outputs": [
        {
          "output_type": "display_data",
          "data": {
            "text/html": [
              "\n",
              "     <input type=\"file\" id=\"files-12d6288f-5032-4460-a871-070c902cd04b\" name=\"files[]\" multiple disabled\n",
              "        style=\"border:none\" />\n",
              "     <output id=\"result-12d6288f-5032-4460-a871-070c902cd04b\">\n",
              "      Upload widget is only available when the cell has been executed in the\n",
              "      current browser session. Please rerun this cell to enable.\n",
              "      </output>\n",
              "      <script src=\"/nbextensions/google.colab/files.js\"></script> "
            ],
            "text/plain": [
              "<IPython.core.display.HTML object>"
            ]
          },
          "metadata": {}
        }
      ]
    },
    {
      "cell_type": "markdown",
      "metadata": {
        "id": "0SJKBz3bpRf5"
      },
      "source": [
        "The zipped dataset folder is unfolded and extracted using the following code."
      ]
    },
    {
      "cell_type": "code",
      "metadata": {
        "colab": {
          "base_uri": "https://localhost:8080/"
        },
        "id": "6gk6w6qjYeQP",
        "outputId": "d9e0d384-e58a-4654-9e53-d2bd736d9d6f"
      },
      "source": [
        "import zipfile\n",
        "data = zipfile.ZipFile(io.BytesIO(uploadedData['converted images.zip']), 'r')\n",
        "data.extractall()\n",
        "data.printdir()"
      ],
      "execution_count": null,
      "outputs": [
        {
          "output_type": "stream",
          "name": "stdout",
          "text": [
            "File Name                                             Modified             Size\n",
            "converted images/                              2021-10-29 13:24:56            0\n",
            "converted images/001.jpg                       2021-06-21 17:04:34        41329\n",
            "converted images/002.jpg                       2021-06-21 17:06:38        42523\n",
            "converted images/003.jpg                       2021-06-21 17:09:36        43948\n",
            "converted images/004.jpg                       2021-06-21 17:10:34        44402\n",
            "converted images/005.jpg                       2021-06-21 17:32:54        44646\n",
            "converted images/006.jpg                       2021-06-21 17:33:28        45322\n",
            "converted images/007.jpg                       2021-06-21 17:34:06        46314\n",
            "converted images/008.jpg                       2021-06-21 17:34:30        46586\n",
            "converted images/009.jpg                       2021-06-21 17:34:52        46762\n",
            "converted images/010.jpg                       2021-06-21 17:35:28        47147\n",
            "converted images/011.jpg                       2021-06-21 17:35:56        48852\n",
            "converted images/012.jpg                       2021-06-21 17:36:18        49626\n",
            "converted images/013.jpg                       2021-06-21 17:36:44        50166\n",
            "converted images/014.jpg                       2021-06-21 17:37:08        50586\n",
            "converted images/015.jpg                       2021-06-21 17:37:34        50839\n",
            "converted images/016.jpg                       2021-06-21 17:42:40        53070\n",
            "converted images/017.jpg                       2021-06-21 19:03:30        52169\n",
            "converted images/018.jpg                       2021-06-21 19:04:12        52510\n",
            "converted images/019.jpg                       2021-06-21 19:04:34        52729\n",
            "converted images/020.jpg                       2021-06-21 19:04:54        52867\n",
            "converted images/021.jpg                       2021-06-21 19:05:12        52544\n",
            "converted images/022.jpg                       2021-06-21 19:05:32        52832\n",
            "converted images/023.jpg                       2021-06-21 19:05:52        52809\n",
            "converted images/024.jpg                       2021-06-21 19:06:12        52958\n",
            "converted images/025.jpg                       2021-06-21 19:06:36        52977\n",
            "converted images/026.jpg                       2021-06-21 19:07:04        52790\n",
            "converted images/027.jpg                       2021-06-21 19:07:22        53059\n",
            "converted images/028.jpg                       2021-06-21 19:07:42        53139\n",
            "converted images/029.jpg                       2021-06-21 19:08:08        52938\n",
            "converted images/030.jpg                       2021-06-21 19:08:28        53000\n",
            "converted images/031.jpg                       2021-06-21 19:08:48        52270\n",
            "converted images/032.jpg                       2021-06-21 19:09:14        53008\n",
            "converted images/033.jpg                       2021-06-21 19:09:40        52313\n",
            "converted images/034.jpg                       2021-06-21 19:10:08        53167\n",
            "converted images/035.jpg                       2021-06-21 19:10:46        52609\n",
            "converted images/036.jpg                       2021-06-21 17:10:34        44402\n",
            "converted images/037.jpg                       2021-06-21 17:09:36        43948\n",
            "converted images/038.jpg                       2021-06-25 00:35:22        52897\n",
            "converted images/039.jpg                       2021-06-25 00:35:54        52848\n",
            "converted images/040.jpg                       2021-06-25 00:36:14        52910\n",
            "converted images/041.jpg                       2021-06-25 00:36:34        52839\n",
            "converted images/042.jpg                       2021-06-25 00:36:54        53036\n",
            "converted images/043.jpg                       2021-06-25 00:37:14        53160\n",
            "converted images/044.jpg                       2021-06-25 00:37:38        53137\n",
            "converted images/045.jpg                       2021-06-25 00:38:02        52548\n",
            "converted images/046.jpg                       2021-06-25 00:39:00        52548\n",
            "converted images/047.jpg                       2021-06-25 00:39:20        52509\n",
            "converted images/048.jpg                       2021-06-25 00:39:40        52354\n",
            "converted images/049.jpg                       2021-06-25 00:40:02        52135\n",
            "converted images/050.jpg                       2021-06-25 00:40:24        52318\n",
            "converted images/051.jpg                       2021-06-25 00:40:46        51849\n",
            "converted images/052.jpg                       2021-06-25 00:41:10        51405\n",
            "converted images/053.jpg                       2021-06-25 00:41:34        49504\n",
            "converted images/054.jpg                       2021-06-25 00:41:54        50513\n",
            "converted images/055.jpg                       2021-06-25 00:42:20        52178\n",
            "converted images/056.jpg                       2021-06-25 00:42:52        54760\n",
            "converted images/057.jpg                       2021-06-25 00:43:18        57755\n",
            "converted images/058.jpg                       2021-06-25 00:43:42        60321\n",
            "converted images/059.jpg                       2021-06-25 00:44:04        62362\n",
            "converted images/060.jpg                       2021-06-25 00:44:24        64886\n",
            "converted images/061.jpg                       2021-06-25 00:44:46        68205\n",
            "converted images/062.jpg                       2021-06-25 00:45:02        71546\n",
            "converted images/063.jpg                       2021-06-25 00:45:22        73952\n",
            "converted images/064.jpg                       2021-06-25 00:45:48        74873\n",
            "converted images/065.jpg                       2021-06-25 00:46:36        74902\n",
            "converted images/066.jpg                       2021-06-25 00:46:54        75397\n",
            "converted images/067.jpg                       2021-06-25 00:47:18        75764\n",
            "converted images/068.jpg                       2021-06-25 00:47:44        75878\n",
            "converted images/069.jpg                       2021-06-25 00:48:26        75838\n",
            "converted images/070.jpg                       2021-06-25 00:48:46        76638\n",
            "converted images/071.jpg                       2021-06-25 00:49:10        76358\n",
            "converted images/072.jpg                       2021-06-25 00:49:28        78460\n",
            "converted images/073.jpg                       2021-06-25 00:49:48        80710\n",
            "converted images/074.jpg                       2021-06-25 00:50:10        80758\n",
            "converted images/075.jpg                       2021-06-25 00:50:32        80794\n",
            "converted images/076.jpg                       2021-06-25 00:51:00        80794\n",
            "converted images/077.jpg                       2021-06-25 00:51:26        80777\n",
            "converted images/078.jpg                       2021-06-25 00:51:52        80917\n",
            "converted images/079.jpg                       2021-06-25 00:52:18        81064\n",
            "converted images/080.jpg                       2021-06-25 00:52:44        81245\n",
            "converted images/081.jpg                       2021-06-25 00:53:06        80945\n",
            "converted images/082.jpg                       2021-06-25 00:53:32        81042\n",
            "converted images/083.jpg                       2021-06-25 00:53:50        80884\n",
            "converted images/084.jpg                       2021-06-25 00:54:14        81425\n",
            "converted images/085.jpg                       2021-06-25 00:54:40        81486\n",
            "converted images/086.jpg                       2021-06-25 00:55:06        83832\n",
            "converted images/087.jpg                       2021-06-25 00:55:28        83686\n",
            "converted images/088.jpg                       2021-06-25 00:55:46        83413\n",
            "converted images/089.jpg                       2021-06-25 00:56:08        83873\n",
            "converted images/090.jpg                       2021-06-25 00:56:30        83888\n",
            "converted images/091.jpg                       2021-06-25 00:56:56        83659\n",
            "converted images/092.jpg                       2021-06-25 00:57:18        83657\n",
            "converted images/093.jpg                       2021-06-25 00:57:42        83707\n",
            "converted images/094.jpg                       2021-06-25 00:58:06        83759\n",
            "converted images/095.jpg                       2021-06-25 00:58:28        83728\n",
            "converted images/096.jpg                       2021-06-25 00:58:46        83833\n",
            "converted images/097.jpg                       2021-06-25 00:59:04        83381\n",
            "converted images/098.jpg                       2021-06-25 00:59:24        83440\n",
            "converted images/099.jpg                       2021-06-25 00:59:42        83702\n",
            "converted images/100.jpg                       2021-06-25 01:00:00        83499\n",
            "converted images/101.jpg                       2021-06-25 01:00:24        83058\n",
            "converted images/102.jpg                       2021-06-25 01:00:42        82728\n"
          ]
        }
      ]
    },
    {
      "cell_type": "markdown",
      "metadata": {
        "id": "lYUeh3bcpf8E"
      },
      "source": [
        "The image data is read and stored in a list named list_3."
      ]
    },
    {
      "cell_type": "code",
      "metadata": {
        "colab": {
          "base_uri": "https://localhost:8080/"
        },
        "id": "EwlGIleFmvx3",
        "outputId": "e3fc5679-99e0-4b4f-9434-c7f8129d3056"
      },
      "source": [
        "list_3 = []\n",
        "list_4 = []\n",
        "filenames = glob.glob(\"converted images/\"+\"*.jpg\")\n",
        "filenames.sort()\n",
        "print(\"filenames\", filenames)\n",
        "for img in filenames:\n",
        "  n = cv2.imread(img, 0)\n",
        "  if n is not None:\n",
        "    list_3.append(n)\n",
        "    list_4.append(img)\n",
        "print(\"The length of the image dataset: \", len(list_3))"
      ],
      "execution_count": 39,
      "outputs": [
        {
          "output_type": "stream",
          "name": "stdout",
          "text": [
            "filenames ['converted images/001.jpg', 'converted images/002.jpg', 'converted images/003.jpg', 'converted images/004.jpg', 'converted images/005.jpg', 'converted images/006.jpg', 'converted images/007.jpg', 'converted images/008.jpg', 'converted images/009.jpg', 'converted images/010.jpg', 'converted images/011.jpg', 'converted images/012.jpg', 'converted images/013.jpg', 'converted images/014.jpg', 'converted images/015.jpg', 'converted images/016.jpg', 'converted images/017.jpg', 'converted images/018.jpg', 'converted images/019.jpg', 'converted images/020.jpg', 'converted images/021.jpg', 'converted images/022.jpg', 'converted images/023.jpg', 'converted images/024.jpg', 'converted images/025.jpg', 'converted images/026.jpg', 'converted images/027.jpg', 'converted images/028.jpg', 'converted images/029.jpg', 'converted images/030.jpg', 'converted images/031.jpg', 'converted images/032.jpg', 'converted images/033.jpg', 'converted images/034.jpg', 'converted images/035.jpg', 'converted images/036.jpg', 'converted images/037.jpg', 'converted images/038.jpg', 'converted images/039.jpg', 'converted images/040.jpg', 'converted images/041.jpg', 'converted images/042.jpg', 'converted images/043.jpg', 'converted images/044.jpg', 'converted images/045.jpg', 'converted images/046.jpg', 'converted images/047.jpg', 'converted images/048.jpg', 'converted images/049.jpg', 'converted images/050.jpg', 'converted images/051.jpg', 'converted images/052.jpg', 'converted images/053.jpg', 'converted images/054.jpg', 'converted images/055.jpg', 'converted images/056.jpg', 'converted images/057.jpg', 'converted images/058.jpg', 'converted images/059.jpg', 'converted images/060.jpg', 'converted images/061.jpg', 'converted images/062.jpg', 'converted images/063.jpg', 'converted images/064.jpg', 'converted images/065.jpg', 'converted images/066.jpg', 'converted images/067.jpg', 'converted images/068.jpg', 'converted images/069.jpg', 'converted images/070.jpg', 'converted images/071.jpg', 'converted images/072.jpg', 'converted images/073.jpg', 'converted images/074.jpg', 'converted images/075.jpg', 'converted images/076.jpg', 'converted images/077.jpg', 'converted images/078.jpg', 'converted images/079.jpg', 'converted images/080.jpg', 'converted images/081.jpg', 'converted images/082.jpg', 'converted images/083.jpg', 'converted images/084.jpg', 'converted images/085.jpg', 'converted images/086.jpg', 'converted images/087.jpg', 'converted images/088.jpg', 'converted images/089.jpg', 'converted images/090.jpg', 'converted images/091.jpg', 'converted images/092.jpg', 'converted images/093.jpg', 'converted images/094.jpg', 'converted images/095.jpg', 'converted images/096.jpg', 'converted images/097.jpg', 'converted images/098.jpg', 'converted images/099.jpg', 'converted images/100.jpg', 'converted images/101.jpg', 'converted images/102.jpg']\n",
            "The length of the image dataset:  102\n"
          ]
        }
      ]
    },
    {
      "cell_type": "markdown",
      "metadata": {
        "id": "8auc4gw4p6_-"
      },
      "source": [
        "## Preprocessing of the data"
      ]
    },
    {
      "cell_type": "markdown",
      "metadata": {
        "id": "QDlXG1tzAA8s"
      },
      "source": [
        "Contrast Stretching is done on the images.\n",
        "\n",
        "The equation of the contrast stretching function is as follows,\n",
        "\n",
        "\n",
        "![csEQ.PNG](data:image/png;base64,iVBORw0KGgoAAAANSUhEUgAAAREAAAA3CAYAAAArFn4RAAAAAXNSR0IArs4c6QAAAARnQU1BAACxjwv8YQUAAAAJcEhZcwAADsMAAA7DAcdvqGQAAAexSURBVHhe7ZqNTeQwEIVpgRpogR4ogRpogQ7ogA6ogApogAbogB727tvjSaM528mu48WrvE+KNnEc/4xnnieBm4MxxnRgETHGdGERMcZ0YRExxnRhETHGdGERMcZ0YRExxnRhETFmBU9PT4ebm5vD8/PzT4kRFhFjVnJ/f394f3//uTLCImLMXz4/PxezDDKR7+/vn6uxvL29HY9rwCJidg/CQJbx9fX1U/KvDFG5vb09HrzOUGcECNjDw8NRpDheX1+P5fR5DUJiETG75/Hx8b9gpUzCgqDc3d0N+R6CgCBSEg760FjUbxS3GbGImF3z8fFxDNQIZWQEMXhb30NUv3WQaZSgnIyjBoLSuj8DFhGzawjinIWQDcSgJyNACLbOCNQu2UgN6pCpzJyNWETMbiF4CWICNYKAvLy8/Fwdjuc5W9kCZTBLkInMnI1YRMxuIePg20eGMmUifKvQNaKjbxdbQHYRMxEyotJ3F16jyEZmxSJidgvZRUkU9LGTgwBWxjAiG0A0aJu+OM9ZkaDOrP+jspmIMHnSvpKSXgP6gFVbxK3ptdfM9r60LTNr+lcWgEBcA/kVayYWRQRDxwPFzJNhsfh6nT9QXRvsQJf4k1rNXtg121tpdOQa7H0pW9ZY6n/t94hZQBT1ijUbi1YkhcLYUnUcl+vo2OyGo1SSYBmxW9TGzPxGL1bLXsxX2YXEIr+3156nvPSOP5raGl3Cli1a/UuwrwXGu/a7CHUvafdFK/LOiJNEML7eJXF0rkfsOFnAtoKx6n23BDvYqDR3yV55XNl5Rtr7HJbWaKQt11Dr/9KB1gvxhp3XMJ2IsLNpZwScl8loYVD7LDKCujxPfY64wzJJymJGE/viV8/poD2V47xKWWPgMR6u445MPZ6hXzl9PHgmQuoY57wlLXvFcYqcxtae11wkLrID84j2xsFAtlNbsqv66lmjyChbRt9iHsy31E+tf+YW7To7xBtzjb5R41QRISawodYwrvcaFkUkBiiN43TRiVmgGLCCyfIsi8g5i84AaYtnuM67ROwLMEZsG0fR89E5qIPRaJMy6kUj5myKPumrxtIicE8Grx2l3Q9q9oI4Tmym3SfapPY8dbAnyA6UMVZspTLNS2W0z3xZWw6NnbrnrFHmVIdeA7ZhXCXfytT6p2zrcY2ENWj5VeQUm2uzUbv4H/Y8haaIyKl0RFEQDJZBZyiTUwsGGOvSpgasvnLbem2KUB4dNxuNa8YpqEtQCO5f2vFFzV7AmKK9sVcOjNrzec5AGWsmm3Id5y3HxPaC6+ioXJ+zRoI+a7akraWjBG1G32I81C05f61/ykrluf/fOjItEWGO+fl8UCeD3fAPhKSHpojgHHTSgoUoDZAAiIGrhVZQ8BsdgYloFxbUjw4ucjnBE4ODdqJh6CcGI2M+1/F7qdkLsHVrXFB7nvLsDJTFNch1aCfaTTu6bNuzRmKELRlDtEEeZ6TWP2Vbj2skLRHJrLU5dluK7zU0RQQHy7tbBieNjiiYcAxcHDDuijyntinDCaLDy2gZ7YYiq6nESrsSQcm1+gWuW4uxtAjco43WUWu/Zi/Nq7SbRlr2zsGMXTSObBegnRiMnMdgPHeNImsd+hSyfWm/5qe1/inbelwjka1rfhVZa/Ot1qbqAXI6OmpR2p2AMi0sE8ehY1sMHoekH+ppd6E96nOO03IfIdAOHUWBg0CI/cvY3EPEuK9r+tN9Ao7zkvNRFoNlS2r2oj/GtUTp+ThnjVuiRBmU6rAmOteuFIX/3DWKjLClfIl++c3jitT6Z25bBNCliOu3BLZYMzfspfWTLSk7larXMggGzZEXJkLn1Mk7KE7MALnHLwOMMFju0Q91uc+1JkF7OAtlOIKMhyjgFKV7wDlOFR2Nc8pUj/PYd4bxtubcA2Og72gvOYjG1KL0vGzFuDUfApp5CtWRHbQ+2I/2OI8CAueuUWSELTUu5lIaV6TWP88s2XomtHmuYe3cWC/q0S52Km0Ca1g3qgUI6q13mxo47agABxxxtHP12msLe+Mwo+d5CVu2aPUv4akhYSe4ZoDx4vszsomIoGjsCqWdYEvYddaq8Tlod467/Ah67bWFvfP3kK25lC1rLPUvkWiBUJNhzQDj+E1BbrFZROLYOGXvDtmCoGHhz027WtB2LSUfQa+9ep8nwBCiEUF+aVtm1vTPvPGlVlaL0OZXvN8CARkp+j2M29aNmRyEtLUh8fqA2BDACM6oIKZdfVuqvbJwbxZBy1hEzG4hiyPbKKHXIQKcjOaUD5unQMakjJB+6DOjv5zNikXE7BZ9Yyu99iAaBLTutb6hKFNpHaXXJrW59EqJ0HDMikXE7BoEoPSBmgwllnO+dTbQyoQEIqbXqlmxiJhdQzZQeoUgcMlUBGKzdTaw5mOpPhLPjEXE7J6cdeg1h18yAYJ4RDZAu8pEaJvz2Ie+kcychYBFxOwegjX+uZvsgIMARkzIGGJWshW0qT7oP383QWRKr1qzYREx5i8E9Mj/cToVxOMaBAQsIsaYLiwixpguLCLGmC4sIsaYLiwixpguLCLGmC4sIsaYLiwixpguLCLGmC4sIsaYLiwixpguLCLGmC4sIsaYLiwixpguLCLGmC4sIsaYDg6HP3eoELBbyJCiAAAAAElFTkSuQmCC)\n",
        "\n",
        "      where, P(output) = the value of the output pixel\n",
        "      P(input) = the value of the input pixel\n",
        "      a = lowest gray level value of the original image\n",
        "    \tb = highest gray level value of the original image\n",
        "      c = lowest gray level value needed in the output image\n",
        "      d = highest gray level value needed in the output image\n"
      ]
    },
    {
      "cell_type": "code",
      "metadata": {
        "id": "33Um-cD1iLRh"
      },
      "source": [
        "def contrastStretching(image):\n",
        "    plt.hist(image.ravel(), 256, [0, 256])\n",
        "    frame1 = image.copy()\n",
        "    #xp = [0, 64, 128, 192, 255]\n",
        "    #fp = [0, 16, 128, 240, 255]\n",
        "    xp1 = [5, 50, 145, 250]\n",
        "    fp1 = [5, 10, 245, 250]\n",
        "    y = np.arange(256)\n",
        "    table1 = np.interp(y, xp1, fp1).astype('uint8')\n",
        "    frame1 = cv2.LUT(frame1, table1)\n",
        "    plt.hist(frame1.ravel(), 256, [0, 256])\n",
        "    #plt.show()\n",
        "    return frame1"
      ],
      "execution_count": 40,
      "outputs": []
    },
    {
      "cell_type": "markdown",
      "metadata": {
        "id": "AC-CEfLBAH5b"
      },
      "source": [
        "Noise removal is done by using the Gaussian Filter\n",
        "\n",
        "The 2D isotropic Gaussian kernel,\n",
        "\n",
        "![image.png](data:image/png;base64,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)\n",
        "\n",
        "    where, G(x,y) = Gaussian distribution\n",
        "\t  σ = standard deviation\n"
      ]
    },
    {
      "cell_type": "code",
      "metadata": {
        "id": "fX3tE6K-iZSi"
      },
      "source": [
        "def gaussianBlur(image):\n",
        "    gaussian = cv2.GaussianBlur(image,(5,5),0)\n",
        "    return gaussian"
      ],
      "execution_count": 41,
      "outputs": []
    },
    {
      "cell_type": "markdown",
      "metadata": {
        "id": "FnQZkDSXAMuG"
      },
      "source": [
        "## Feature Extraction"
      ]
    },
    {
      "cell_type": "markdown",
      "metadata": {
        "id": "pCfsWlFoAVHB"
      },
      "source": [
        "Function to calculate the histogram of a given image. This will be needed for the calculation of the first-order statistical features."
      ]
    },
    {
      "cell_type": "code",
      "metadata": {
        "id": "w9yEtnUfiYOW"
      },
      "source": [
        "def calcHistogram(image):\n",
        "    hist, edges, patches = plt.hist(image.ravel(), 256, [0, 256])\n",
        "    return hist"
      ],
      "execution_count": 42,
      "outputs": []
    },
    {
      "cell_type": "markdown",
      "metadata": {
        "id": "Zup9RM2HAoR_"
      },
      "source": [
        "Function to find the average of the calculated values for each pixel/pixel neighbourhoods of an image."
      ]
    },
    {
      "cell_type": "code",
      "metadata": {
        "id": "Z20urs6xicyn"
      },
      "source": [
        "def findAverage(list):\n",
        "    avg = sum(list)/len(list)\n",
        "    return avg"
      ],
      "execution_count": 43,
      "outputs": []
    },
    {
      "cell_type": "code",
      "metadata": {
        "id": "Of3HcWNRihz_"
      },
      "source": [
        "#Extracting features\n",
        "G = 256 #NUmber of gray levels in an image"
      ],
      "execution_count": 44,
      "outputs": []
    },
    {
      "cell_type": "markdown",
      "metadata": {
        "id": "KVy1PMLhA0-r"
      },
      "source": [
        "### First-Order Statistical Features"
      ]
    },
    {
      "cell_type": "markdown",
      "metadata": {
        "id": "fWyMl1FsA8bL"
      },
      "source": [
        "Function to calculate the probability density value that will be needed for the first-order feature calculation.\n",
        "\n",
        "![image.png](data:image/png;base64,iVBORw0KGgoAAAANSUhEUgAAAGEAAAAlCAYAAABSz4fZAAAER0lEQVRoge2av0/yXBTHv7z/gKk4Ohjr4mBIpGEwhsGBqnE0qZOjSfsHONTdBNwc/JHoKk10tJhiIgMNYQDTxlWIg2OL/gf3GXjpS+29BZ6HR5u895N04HB77zn3e3p674UUIYSA86P889MOcLgIiYCLkAC4CAmAi5AAuAgJgIuQALgICYCLkAC4CAlgaiL4vo9SqYSjoyPq94ZhQNM0+L4/rSF/i1F+2rYNTdPguu73OUVikGWZAAhdqqoSz/NC7TzPI5IkkXK5HNcdcRyHiKJIOp1ObLu/xbh+DtqZphnbbhDPgHq9HszT8L3FYjGw04gVwfO8UIeO4xBBEMjFxUWona7rpFgsRu6XJCnStlwuE1mWY4P7U0zTpI7B8nMQp+M4ga3T6RBBECIJN4yqqpH+dF0nsiwTVVVDdlEUmaLGiuA4DgEQckSWZaIoSiSASbJbFEVSr9fHbj8JnucRWZaJrusR+6R+0iZ5VH+KogTJOkxc0Yl9JzSbTUiShHQ6HdheX1+xuroafH58fIQkSVhcXAxstm0jlUphaWmJ2m+hUMDDw8PEpXMUvu9jbm4OlmXh+PgYqVQKmqYx/QSAUqkUajdMPp/H7e0tday7uzsoihLp7/PzE5lMBrOzs6hUKgAA13UhyzLT71gRarUaCoUCAKDb7ULTNPR6Pezu7gZtXl5eIIpi6L719XXouh7c+5WFhQW0223muKlUauRFI51Og/z784jjOCCE4OzsjOknABweHkKSJOTz+ch38/PzaLVa1LFOTk6wv78fsrmuG4iiKAru7+8B9JN5Y2ODGW+sCNVqNcgoURTR6/VQq9VC6rfb7dCTMWynBTYOpF8mYy8Wtm1DEARkMpmIPzQ/AaDVaiGXy43tn23bAIDt7e2QvdlsBjFvbW3BMAwA/WReW1tj9scUwXVdfHx8BBlFCIFhGJHgWFiWNVFg06LRaDCfQBq2bUMUxUhZiePm5gYHBwcRe61Ww/LyMoB+NQCASqWCarUafKbBFKHZbEIUxZGTns1m8fz8HLINsnGSwIb53XIEAE9PT9SMp/kJ9EWTJGls33zfx/n5eagkD6hWq6H52tvbw+npKbUMDsMU4erqivliHWZlZQWdTidkazQayOVycF0Xl5eXkXve3t6QzWaZff5JObIsCzMzM+h2u9jc3Iz1E/hPNMMwgjIz4P39PSLQ9fU1VFWNJFilUolM9s7ODizLGv1k0pZMw5sL1hItbqlmmiYBQGRZpq6z/+YSVdd1AiCyLmctKQftvy5pCaEvUVm+s+ZLEISRm77YfcK46LpODYLGd2zWWEziJ22zZppmaIc8LaYiwv/l2EJRlMgJwDSYigiE9B0vFovMTCuXy9Rzp+9mlJ/1ep2oqho6wiCk/2Tgy+nBtEgRwv/89dPw3xMSABchAXAREgAXIQFwERIAFyEBcBESABchAXAREgAXIQFwERLAL3wh7gPRst9LAAAAAElFTkSuQmCC)\n",
        "\n",
        "    where, P(i) = probability density of the intensity level, i\n",
        "\t  t(i) = the total number of pixels that has the intensity level, i\n",
        "\t  N = the total number of pixels in the image\n"
      ]
    },
    {
      "cell_type": "code",
      "metadata": {
        "id": "oe9fpvYvilF9"
      },
      "source": [
        "def calc_Probability_Density(hist_i_value, size):\n",
        "    return (hist_i_value/size)"
      ],
      "execution_count": 45,
      "outputs": []
    },
    {
      "cell_type": "markdown",
      "metadata": {
        "id": "K9hwUFJfBGcI"
      },
      "source": [
        "Statistical Mean calculation\n",
        "\n",
        "![image.png](data:image/png;base64,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)"
      ]
    },
    {
      "cell_type": "code",
      "metadata": {
        "id": "J8tA1PHTinqo"
      },
      "source": [
        "def Stat_Mean(i, prob_density):\n",
        "    mean = (i * (prob_density))\n",
        "    return mean"
      ],
      "execution_count": 46,
      "outputs": []
    },
    {
      "cell_type": "markdown",
      "metadata": {
        "id": "7UXn6T0vBg5u"
      },
      "source": [
        "Average COntrast calculation\n",
        "\n",
        "![image.png](data:image/png;base64,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)"
      ]
    },
    {
      "cell_type": "code",
      "metadata": {
        "id": "krkkf8i0istw"
      },
      "source": [
        "def Stat_Avg_Contrast(i, prob_density, mean):\n",
        "    avg_contrast = pow((i-mean),2) * prob_density\n",
        "    return avg_contrast"
      ],
      "execution_count": 47,
      "outputs": []
    },
    {
      "cell_type": "markdown",
      "metadata": {
        "id": "Q7FvXSwtBkFH"
      },
      "source": [
        "Skewness of a pixel calculation\n",
        "\n",
        "![image.png](data:image/png;base64,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)"
      ]
    },
    {
      "cell_type": "code",
      "metadata": {
        "id": "THToJEpUiuwP"
      },
      "source": [
        "def Stat_Skewness(i, mean, prob_density):\n",
        "    skewness_component = pow((i-mean),3) * prob_density\n",
        "    return skewness_component"
      ],
      "execution_count": 48,
      "outputs": []
    },
    {
      "cell_type": "markdown",
      "metadata": {
        "id": "xvFkCMz5Bm_e"
      },
      "source": [
        "Kurtosis of a pixel calculation\n",
        "\n",
        "![image.png](data:image/png;base64,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)"
      ]
    },
    {
      "cell_type": "code",
      "metadata": {
        "id": "EKAXbu-IivrX"
      },
      "source": [
        "def Stat_Kurtosis(i, mean, prob_density):\n",
        "    kurtosis_component = (pow((i-mean),4) * prob_density) - 3\n",
        "    return kurtosis_component"
      ],
      "execution_count": 49,
      "outputs": []
    },
    {
      "cell_type": "markdown",
      "metadata": {
        "id": "qs3OLvacBq35"
      },
      "source": [
        "Energy of a pixel calculation\n",
        "\n",
        "![image.png](data:image/png;base64,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)"
      ]
    },
    {
      "cell_type": "code",
      "metadata": {
        "id": "Ml-0StSiiyxG"
      },
      "source": [
        "def Stat_Energy(prob_density):\n",
        "    energy = pow(prob_density,2)\n",
        "    return energy"
      ],
      "execution_count": 50,
      "outputs": []
    },
    {
      "cell_type": "code",
      "metadata": {
        "id": "CvLuneH1i5m-"
      },
      "source": [
        "#function for 4: contrast, skewness, kurtosis, energy\n",
        "def Stat_Features_Set1(i, mean, prob_density):\n",
        "    avg_contrast = pow((i - mean), 2) * prob_density\n",
        "    skewness_component = pow((i - mean), 3) * prob_density\n",
        "    kurtosis_component = (pow((i - mean), 4) * prob_density) - 3\n",
        "    energy = pow(prob_density, 2)\n",
        "    return avg_contrast, skewness_component, kurtosis_component, energy"
      ],
      "execution_count": 51,
      "outputs": []
    },
    {
      "cell_type": "code",
      "metadata": {
        "id": "b-nRjPuZjFjW"
      },
      "source": [
        "def calc_Stat_Features(img):\n",
        "    Return_Set = []\n",
        "    stat_mean=0\n",
        "    stat_avg_contrast=0\n",
        "    skewness_component=0\n",
        "    kurtosis_component=0\n",
        "    stat_energy=0\n",
        "    hist = calcHistogram(img)\n",
        "    size = img.size\n",
        "\n",
        "    for i in range(G):\n",
        "        p_d = calc_Probability_Density(hist[i], size)\n",
        "        stat_mean += Stat_Mean(i, p_d)\n",
        "        \n",
        "    for i in range(G):\n",
        "        p_d = calc_Probability_Density(hist[i], size)\n",
        "        p1, p2, p3, p4 = Stat_Features_Set1(i, stat_mean, p_d)\n",
        "        stat_avg_contrast += p1  # variance^2 (avg_contrast)\n",
        "        skewness_component += p2 #skewness_component\n",
        "        kurtosis_component += p3 #kurtosis_component\n",
        "        stat_energy += p4 #energy\n",
        "\n",
        "    skewness = pow(stat_avg_contrast,(-3/2)) * skewness_component\n",
        "    kurtosis = pow(stat_avg_contrast,(-4/2)) * kurtosis_component\n",
        "    return stat_mean, stat_avg_contrast, skewness, kurtosis, stat_energy"
      ],
      "execution_count": 52,
      "outputs": []
    },
    {
      "cell_type": "markdown",
      "metadata": {
        "id": "QHhm_PahFAYG"
      },
      "source": [
        "### Gabor Wavelet Feature Extraction"
      ]
    },
    {
      "cell_type": "markdown",
      "metadata": {
        "id": "3H4Tt35NQ3cq"
      },
      "source": [
        "The Gabor function used,\n",
        "\n",
        "![image.png](data:image/png;base64,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)\n",
        "\n",
        "    where, x^'=xcos⁡θ + ysin⁡θ\n",
        "\t  y^'=-xsin⁡θ + ycos⁡θ\n",
        "\t  λ=wavelength of the sine component\n",
        "\t  θ=orientation of the parallel lines formed by the kernel\n",
        "\t  ψ=phase offset\n",
        "\t  σ=standard deviation of the gaussian envelope\n",
        "\t  ϒ=aspect ratio\n"
      ]
    },
    {
      "cell_type": "markdown",
      "metadata": {
        "id": "mJFnDx6xSmMZ"
      },
      "source": [
        "![image.png](data:image/png;base64,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)"
      ]
    },
    {
      "cell_type": "code",
      "metadata": {
        "id": "ZpoKFl0PjKeV"
      },
      "source": [
        "def gaborFilter(img):\n",
        "    num = 1\n",
        "    fimg_list = []\n",
        "    for theta in range(3):  # 0, 45, 90\n",
        "        theta = theta / 4 * np.pi  # theta 0, 1/4, 1/2 => 0, 45, 90\n",
        "        for theta_i in (theta - 10, theta - 5, theta):\n",
        "            for sigma in (3, 5):\n",
        "                for lamda in np.arange(np.pi / 2, np.pi, np.pi / 4):\n",
        "                    for gamma in (0.05, 0.5):\n",
        "                        gabor_label = 'Gabor' + str(num)\n",
        "                        kernel = cv2.getGaborKernel((5, 5), sigma, theta_i, lamda, gamma, 0,\n",
        "                                                    ktype=cv2.CV_32F)  # ktype is the data type. so it's saying that after the kernel is generated, store it as 32 float\n",
        "                       \n",
        "                        fimg = cv2.filter2D(img, cv2.CV_8UC3, kernel)\n",
        "                        filtered_img = fimg.reshape(-1)\n",
        "                  \n",
        "                        fimg_list.append(fimg)\n",
        "                        \n",
        "                        num += 1\n",
        "    return fimg_list"
      ],
      "execution_count": 53,
      "outputs": []
    },
    {
      "cell_type": "markdown",
      "metadata": {
        "id": "-xkEjErxSCT3"
      },
      "source": [
        "### Edge Detected Features"
      ]
    },
    {
      "cell_type": "code",
      "metadata": {
        "id": "lC3oc8HqjNx5"
      },
      "source": [
        "def cannyEdge(img):\n",
        "    edges = cv2.Canny(img, 100, 200)\n",
        "    edges2 = edges.reshape(-1)\n",
        "    return edges2"
      ],
      "execution_count": 54,
      "outputs": []
    },
    {
      "cell_type": "code",
      "metadata": {
        "id": "gBbU5-n0jQuW"
      },
      "source": [
        "def edge_roberts(img):\n",
        "    edge_robert = roberts(img)\n",
        "    edge_robert2 = edge_robert.reshape(-1)\n",
        "    return edge_robert2"
      ],
      "execution_count": 55,
      "outputs": []
    },
    {
      "cell_type": "code",
      "metadata": {
        "id": "ZS-ZsjndjTcV"
      },
      "source": [
        "def edge_sobel(img):\n",
        "    edge_sobel1 = sobel(img)\n",
        "    edge_sobel2 = edge_sobel1.reshape(-1)\n",
        "    return edge_sobel2"
      ],
      "execution_count": 56,
      "outputs": []
    },
    {
      "cell_type": "code",
      "metadata": {
        "id": "MkUww_XmjWO6"
      },
      "source": [
        "def edge_scharr(img):\n",
        "    edge_scharr1 = scharr(img)\n",
        "    edge_scharr2 = edge_scharr1.reshape(-1)\n",
        "    return edge_scharr2"
      ],
      "execution_count": 57,
      "outputs": []
    },
    {
      "cell_type": "code",
      "metadata": {
        "id": "XGaQtDmQjY7o"
      },
      "source": [
        "def edge_prewitt(img):\n",
        "    edge_prewitt1 = prewitt(img)\n",
        "    edge_prewitt2 = edge_prewitt1.reshape(-1)\n",
        "    return edge_prewitt2"
      ],
      "execution_count": 58,
      "outputs": []
    },
    {
      "cell_type": "markdown",
      "metadata": {
        "id": "Y3FDJ53SSII3"
      },
      "source": [
        "### Other extracted features: Gaussian S3 and S7, Entropy features"
      ]
    },
    {
      "cell_type": "code",
      "metadata": {
        "id": "Hofj_uHajbso"
      },
      "source": [
        "def gaussianFeature(img):\n",
        "    gaussian_img = nd.gaussian_filter(img, sigma = 3) #Gaussian S3\n",
        "    gaussian_img1 = gaussian_img.reshape(-1)\n",
        "    gaussian_img2 = nd.gaussian_filter(img, sigma=7) #Gaussian S7\n",
        "    gaussian_img3 = gaussian_img2.reshape(-1)\n",
        "    return gaussian_img1, gaussian_img3"
      ],
      "execution_count": 59,
      "outputs": []
    },
    {
      "cell_type": "code",
      "metadata": {
        "id": "PrcY19lDjjfZ"
      },
      "source": [
        "def entropyFeature(img):\n",
        "    entropy_img = entropy(img, disk(1))\n",
        "    entropy_img1 = entropy_img.reshape(-1)\n",
        "    return entropy_img1"
      ],
      "execution_count": 60,
      "outputs": []
    },
    {
      "cell_type": "markdown",
      "metadata": {
        "id": "5r873KsdSSxp"
      },
      "source": [
        "### GLCM Feature Extraction"
      ]
    },
    {
      "cell_type": "code",
      "metadata": {
        "id": "OhH4vN_Kjmbg"
      },
      "source": [
        "def glcmFeatures(img):\n",
        "    glcm = greycomatrix(img, distances=[5], angles=[0], levels=256, symmetric=True, normed=True)\n",
        "    diss_sim = greycoprops(glcm, 'dissimilarity')[0, 0] # [0,0] to convert array to value\n",
        "    corr = greycoprops(glcm, 'correlation')[0, 0]\n",
        "    homogen = greycoprops(glcm, 'homogeneity')[0, 0]\n",
        "    energy = greycoprops(glcm, 'energy')[0, 0]\n",
        "    contrast = greycoprops(glcm, 'contrast')[0, 0]\n",
        "    return diss_sim, corr, homogen, energy, contrast"
      ],
      "execution_count": 61,
      "outputs": []
    },
    {
      "cell_type": "markdown",
      "metadata": {
        "id": "rfz79pPYW-aW"
      },
      "source": [
        "Defining the lists needed to store the calculated features for each image."
      ]
    },
    {
      "cell_type": "code",
      "metadata": {
        "id": "KkTe0poqjz4p"
      },
      "source": [
        "contrast_stretched_image_list = []\n",
        "num_CS = 0\n",
        "Canny_Edges_list = []\n",
        "Edge_Roberts_List = []\n",
        "Edge_Sobel_List = []\n",
        "Edge_Scharr_List = []\n",
        "Edge_Prewitt_List = []\n",
        "Gaussian_img1_List = []\n",
        "Gaussian_img3_List = []\n",
        "Variance_list = []\n",
        "Stat_Mean_List = []\n",
        "Stat_Avg_Contrast_List = []\n",
        "Stat_Skewness_List = []\n",
        "Stat_Kurtosis_List = []\n",
        "Stat_Energy_List = []\n",
        "Stat_Entropy_List = []\n",
        "Gabor_Individual_List = []\n",
        "GLCM_diss_sim_List = []\n",
        "GLCM_corr_List = []\n",
        "GLCM_homogen_List = []\n",
        "GLCM_energy_List = []\n",
        "GLCM_contrast_List = []"
      ],
      "execution_count": 62,
      "outputs": []
    },
    {
      "cell_type": "code",
      "metadata": {
        "id": "iiPA4qF5WVeK"
      },
      "source": [
        "df = pd.DataFrame()\n",
        "#df_sift = pd.DataFrame()\n",
        "df_newFeatures1 = pd.DataFrame()"
      ],
      "execution_count": 63,
      "outputs": []
    },
    {
      "cell_type": "markdown",
      "metadata": {
        "id": "u5ubz_dWXFw0"
      },
      "source": [
        "Extracting features for each image from the dataset."
      ]
    },
    {
      "cell_type": "code",
      "metadata": {
        "colab": {
          "base_uri": "https://localhost:8080/",
          "height": 1000
        },
        "id": "MWX-owiVj0rA",
        "outputId": "7d091566-46c3-44bb-b1ac-0404ccda32eb"
      },
      "source": [
        "for img in list_3:\n",
        "  print(\"length of images list, \", len(list_3))\n",
        "  CS_img = contrastStretching(img)\n",
        "  contrast_stretched_image_list.append(CS_img)\n",
        "  gaussian_img = gaussianBlur(CS_img)\n",
        "\n",
        "  canny_edges2 = cannyEdge(gaussian_img)\n",
        "  avg_canny_edges2 = findAverage(canny_edges2)\n",
        "  Canny_Edges_list.append(avg_canny_edges2)\n",
        "\n",
        "  edge_robert2 = edge_roberts(gaussian_img)\n",
        "  avg_edge_roberts2 = findAverage(edge_robert2)\n",
        "  Edge_Roberts_List.append(avg_edge_roberts2)\n",
        "\n",
        "  edge_sobel2 = edge_sobel(gaussian_img)\n",
        "  avg_edge_sobel2 = findAverage(edge_sobel2)\n",
        "  Edge_Sobel_List.append(avg_edge_sobel2)\n",
        "\n",
        "  edge_scharr2 = edge_scharr(gaussian_img)\n",
        "  avg_edge_scharr2 = findAverage(edge_scharr2)\n",
        "  Edge_Scharr_List.append(avg_edge_scharr2)\n",
        "\n",
        "  edge_prewitt2 = edge_prewitt(gaussian_img)\n",
        "  avg_edge_prewitt2 = findAverage(edge_prewitt2)\n",
        "  Edge_Prewitt_List.append(avg_edge_prewitt2)\n",
        "\n",
        "  gaussian_img1, gaussian_img3 = gaussianFeature(gaussian_img)\n",
        "  avg_gaussian_img1 = findAverage(gaussian_img1)\n",
        "  avg_gaussian_img3 = findAverage(gaussian_img3)\n",
        "  Gaussian_img1_List.append(avg_gaussian_img1)\n",
        "  Gaussian_img3_List.append(avg_gaussian_img3)\n",
        "\n",
        "  entropy_img1 = entropyFeature(gaussian_img)\n",
        "  avg_entropy_img1 = findAverage(entropy_img1)\n",
        "  Variance_list.append(avg_entropy_img1)\n",
        "\n",
        "  gabor_images = gaborFilter(gaussian_img)\n",
        "  total_gabor_image_values = [] #42 elements\n",
        "  for img in gabor_images:\n",
        "    g = img.reshape(-1)\n",
        "    avg_g = findAverage(g)\n",
        "    total_gabor_image_values.append(avg_g)\n",
        "  \n",
        "  Gabor_Individual_List.append(total_gabor_image_values)\n",
        "\n",
        "  stat_mean, stat_avg_contrast, skewness, kurtosis, stat_energy = calc_Stat_Features(gaussian_img)\n",
        "  Stat_Mean_List.append(stat_mean)\n",
        "  Stat_Avg_Contrast_List .append(stat_avg_contrast)\n",
        "  Stat_Skewness_List.append(skewness)\n",
        "  Stat_Kurtosis_List.append(kurtosis)\n",
        "  Stat_Energy_List.append(stat_energy)\n",
        "\n",
        "  diss_sim, corr, homogen, energy, contrast = glcmFeatures(gaussian_img)\n",
        "  GLCM_diss_sim_List.append(diss_sim)\n",
        "  GLCM_corr_List.append(corr)\n",
        "  GLCM_homogen_List.append(homogen)\n",
        "  GLCM_energy_List.append(energy)\n",
        "  GLCM_contrast_List.append(contrast)\n",
        "\n",
        "  print(num_CS)\n",
        "  num_CS = num_CS + 1\n",
        "  "
      ],
      "execution_count": 64,
      "outputs": [
        {
          "output_type": "stream",
          "name": "stdout",
          "text": [
            "length of images list,  102\n",
            "0\n",
            "length of images list,  102\n",
            "1\n",
            "length of images list,  102\n",
            "2\n",
            "length of images list,  102\n",
            "3\n",
            "length of images list,  102\n",
            "4\n",
            "length of images list,  102\n",
            "5\n",
            "length of images list,  102\n",
            "6\n",
            "length of images list,  102\n",
            "7\n",
            "length of images list,  102\n",
            "8\n",
            "length of images list,  102\n",
            "9\n",
            "length of images list,  102\n",
            "10\n",
            "length of images list,  102\n",
            "11\n",
            "length of images list,  102\n",
            "12\n",
            "length of images list,  102\n",
            "13\n",
            "length of images list,  102\n",
            "14\n",
            "length of images list,  102\n",
            "15\n",
            "length of images list,  102\n",
            "16\n",
            "length of images list,  102\n",
            "17\n",
            "length of images list,  102\n",
            "18\n",
            "length of images list,  102\n",
            "19\n",
            "length of images list,  102\n",
            "20\n",
            "length of images list,  102\n",
            "21\n",
            "length of images list,  102\n",
            "22\n",
            "length of images list,  102\n",
            "23\n",
            "length of images list,  102\n",
            "24\n",
            "length of images list,  102\n",
            "25\n",
            "length of images list,  102\n",
            "26\n",
            "length of images list,  102\n",
            "27\n",
            "length of images list,  102\n",
            "28\n",
            "length of images list,  102\n",
            "29\n",
            "length of images list,  102\n",
            "30\n",
            "length of images list,  102\n",
            "31\n",
            "length of images list,  102\n",
            "32\n",
            "length of images list,  102\n",
            "33\n",
            "length of images list,  102\n",
            "34\n",
            "length of images list,  102\n",
            "35\n",
            "length of images list,  102\n",
            "36\n",
            "length of images list,  102\n",
            "37\n",
            "length of images list,  102\n",
            "38\n",
            "length of images list,  102\n",
            "39\n",
            "length of images list,  102\n",
            "40\n",
            "length of images list,  102\n",
            "41\n",
            "length of images list,  102\n",
            "42\n",
            "length of images list,  102\n",
            "43\n",
            "length of images list,  102\n",
            "44\n",
            "length of images list,  102\n",
            "45\n",
            "length of images list,  102\n",
            "46\n",
            "length of images list,  102\n",
            "47\n",
            "length of images list,  102\n",
            "48\n",
            "length of images list,  102\n",
            "49\n",
            "length of images list,  102\n",
            "50\n",
            "length of images list,  102\n",
            "51\n",
            "length of images list,  102\n",
            "52\n",
            "length of images list,  102\n",
            "53\n",
            "length of images list,  102\n",
            "54\n",
            "length of images list,  102\n",
            "55\n",
            "length of images list,  102\n",
            "56\n",
            "length of images list,  102\n",
            "57\n",
            "length of images list,  102\n",
            "58\n",
            "length of images list,  102\n",
            "59\n",
            "length of images list,  102\n",
            "60\n",
            "length of images list,  102\n",
            "61\n",
            "length of images list,  102\n",
            "62\n",
            "length of images list,  102\n",
            "63\n",
            "length of images list,  102\n",
            "64\n",
            "length of images list,  102\n",
            "65\n",
            "length of images list,  102\n",
            "66\n",
            "length of images list,  102\n",
            "67\n",
            "length of images list,  102\n",
            "68\n",
            "length of images list,  102\n",
            "69\n",
            "length of images list,  102\n",
            "70\n",
            "length of images list,  102\n",
            "71\n",
            "length of images list,  102\n",
            "72\n",
            "length of images list,  102\n",
            "73\n",
            "length of images list,  102\n",
            "74\n",
            "length of images list,  102\n",
            "75\n",
            "length of images list,  102\n",
            "76\n",
            "length of images list,  102\n",
            "77\n",
            "length of images list,  102\n",
            "78\n",
            "length of images list,  102\n",
            "79\n",
            "length of images list,  102\n",
            "80\n",
            "length of images list,  102\n",
            "81\n",
            "length of images list,  102\n",
            "82\n",
            "length of images list,  102\n",
            "83\n",
            "length of images list,  102\n",
            "84\n",
            "length of images list,  102\n",
            "85\n",
            "length of images list,  102\n",
            "86\n",
            "length of images list,  102\n",
            "87\n",
            "length of images list,  102\n",
            "88\n",
            "length of images list,  102\n",
            "89\n",
            "length of images list,  102\n",
            "90\n",
            "length of images list,  102\n",
            "91\n",
            "length of images list,  102\n",
            "92\n",
            "length of images list,  102\n",
            "93\n",
            "length of images list,  102\n",
            "94\n",
            "length of images list,  102\n",
            "95\n",
            "length of images list,  102\n",
            "96\n",
            "length of images list,  102\n",
            "97\n",
            "length of images list,  102\n",
            "98\n",
            "length of images list,  102\n",
            "99\n",
            "length of images list,  102\n",
            "100\n",
            "length of images list,  102\n",
            "101\n"
          ]
        },
        {
          "output_type": "display_data",
          "data": {
            "image/png": "[encoded data removed]",
            "text/plain": [
              "<Figure size 432x288 with 1 Axes>"
            ]
          },
          "metadata": {
            "needs_background": "light"
          }
        }
      ]
    },
    {
      "cell_type": "code",
      "metadata": {
        "id": "TTvIIWbwQe9Z",
        "colab": {
          "base_uri": "https://localhost:8080/"
        },
        "outputId": "11698885-64c5-4bf1-deba-7483e2d26399"
      },
      "source": [
        "Gabor_Total_Dict = {}\n",
        "for i in range(len(Gabor_Individual_List[0])):\n",
        "  Gabor_Total_Dict['GB'+str(i)]=[]\n",
        "\n",
        "for i in Gabor_Individual_List:\n",
        "  image_values = i\n",
        "  num = 0\n",
        "  for j in image_values:\n",
        "    label = 'GB'+str(num)\n",
        "    val = Gabor_Total_Dict[label]\n",
        "    val.append(j)\n",
        "    Gabor_Total_Dict[label] = val\n",
        "    num += 1\n",
        "\n",
        "print(\"Length of the Gabor dictionary\", len(Gabor_Total_Dict))\n",
        "Gray_Images_List = []\n",
        "for i in range(len(list_3)):\n",
        "  Gray_Images_List.append(i+1)"
      ],
      "execution_count": 66,
      "outputs": [
        {
          "output_type": "stream",
          "name": "stdout",
          "text": [
            "Length of the Gabor dictionary 72\n"
          ]
        }
      ]
    },
    {
      "cell_type": "code",
      "metadata": {
        "colab": {
          "base_uri": "https://localhost:8080/"
        },
        "id": "8BvL2bQ8DNcc",
        "outputId": "68991090-7b1a-4216-f38c-6c49e04ad2aa"
      },
      "source": [
        "from google.colab import drive\n",
        "drive.mount('drive')"
      ],
      "execution_count": 67,
      "outputs": [
        {
          "output_type": "stream",
          "name": "stdout",
          "text": [
            "Drive already mounted at drive; to attempt to forcibly remount, call drive.mount(\"drive\", force_remount=True).\n"
          ]
        }
      ]
    },
    {
      "cell_type": "markdown",
      "metadata": {
        "id": "JsDKwlGUXdQY"
      },
      "source": [
        "### Putting the extracted feature data into a Pandas Dataframe."
      ]
    },
    {
      "cell_type": "code",
      "metadata": {
        "colab": {
          "base_uri": "https://localhost:8080/"
        },
        "id": "k8AOXIZM_8jg",
        "outputId": "42dbad31-0239-43fd-9b6a-7dc29a2b4979"
      },
      "source": [
        "df_newFeatures1['Gray Level Images'] = Gray_Images_List\n",
        "df_newFeatures1['CannyEdge'] = Canny_Edges_list\n",
        "df_newFeatures1['EdgeRoberts'] = Edge_Roberts_List\n",
        "df_newFeatures1['EdgeSobel'] = Edge_Sobel_List\n",
        "df_newFeatures1['EdgeScharr'] = Edge_Scharr_List\n",
        "df_newFeatures1['EdgePrewitt'] = Edge_Prewitt_List\n",
        "df_newFeatures1['StatMean'] = Stat_Mean_List\n",
        "df_newFeatures1['StatAvgContrast'] = Stat_Avg_Contrast_List\n",
        "df_newFeatures1['StatSkewness'] = Stat_Skewness_List\n",
        "df_newFeatures1['StatKurtosis'] = Stat_Kurtosis_List\n",
        "df_newFeatures1['StatEnergy'] = Stat_Energy_List\n",
        "# df_newFeatures1['StatEntropy'] = Stat_Entropy_List\n",
        "df_newFeatures1['Gaussian1'] = Gaussian_img1_List\n",
        "df_newFeatures1['Gaussian3'] = Gaussian_img3_List\n",
        "df_newFeatures1['Entropy'] = Variance_list\n",
        "\n",
        "Gabor_num = 0\n",
        "for i in range(len(Gabor_Total_Dict)):\n",
        "  label = 'GB' + str(Gabor_num)\n",
        "  val = Gabor_Total_Dict[label]\n",
        "  df_newFeatures1[label] = val\n",
        "  Gabor_num += 1\n",
        "\n",
        "df_newFeatures1['GLCM_Diss_similarity'] = GLCM_diss_sim_List\n",
        "df_newFeatures1['GLCM_Correlation'] = GLCM_corr_List\n",
        "df_newFeatures1['GLCM_Homogeneity'] = GLCM_homogen_List\n",
        "df_newFeatures1['GLCM_Energy'] = GLCM_energy_List\n",
        "df_newFeatures1['GLCM_Contrast'] = GLCM_contrast_List\n",
        "\n",
        "print(df_newFeatures1.head())\n",
        "\n",
        "df_newFeatures1.to_csv('drive/MyDrive/UOM/FYP/Features.csv')\n",
        "print(\"end\")"
      ],
      "execution_count": 69,
      "outputs": [
        {
          "output_type": "stream",
          "name": "stdout",
          "text": [
            "   Gray Level Images  CannyEdge  ...  GLCM_Energy  GLCM_Contrast\n",
            "0                  1   4.194565  ...     0.052283     180.895896\n",
            "1                  2   4.258623  ...     0.049432     181.957759\n",
            "2                  3   4.347319  ...     0.044498     182.504669\n",
            "3                  4   4.541957  ...     0.044354     183.291828\n",
            "4                  5   4.639275  ...     0.043231     185.472615\n",
            "\n",
            "[5 rows x 91 columns]\n",
            "end\n"
          ]
        }
      ]
    },
    {
      "cell_type": "markdown",
      "metadata": {
        "id": "IKj0MtxbXodY"
      },
      "source": [
        "### Plotting the Feature data"
      ]
    },
    {
      "cell_type": "code",
      "metadata": {
        "id": "uXcmLmXxPhnN",
        "colab": {
          "base_uri": "https://localhost:8080/",
          "height": 295
        },
        "outputId": "433c0e61-76dc-4016-a72c-c9d3a6cc522c"
      },
      "source": [
        "plt.plot(df_newFeatures1['Gray Level Images'], df_newFeatures1['StatAvgContrast'], label=\"StatAvgContrast\")\n",
        "plt.xlabel('Gray Images in the dataset')\n",
        "plt.title('Distribution of features of Gray Level images - Set 1')\n",
        "plt.legend()\n",
        "plt.show()"
      ],
      "execution_count": 70,
      "outputs": [
        {
          "output_type": "display_data",
          "data": {
            "image/png": "[encoded data removed]",
            "text/plain": [
              "<Figure size 432x288 with 1 Axes>"
            ]
          },
          "metadata": {
            "needs_background": "light"
          }
        }
      ]
    },
    {
      "cell_type": "code",
      "metadata": {
        "id": "JwO400jPR4WH",
        "colab": {
          "base_uri": "https://localhost:8080/",
          "height": 295
        },
        "outputId": "363348de-218e-4b5b-ed5e-ab01950a89e1"
      },
      "source": [
        "plt.plot(df_newFeatures1['Gray Level Images'], df_newFeatures1['CannyEdge'], label=\"CannyEdge\")\n",
        "plt.plot(df_newFeatures1['Gray Level Images'], df_newFeatures1['EdgeRoberts'], label=\"EdgeRoberts\")\n",
        "plt.plot(df_newFeatures1['Gray Level Images'], df_newFeatures1['EdgeSobel'], label=\"EdgeSobel\")\n",
        "plt.plot(df_newFeatures1['Gray Level Images'], df_newFeatures1['EdgeScharr'], label=\"EdgeScharr\")\n",
        "plt.plot(df_newFeatures1['Gray Level Images'], df_newFeatures1['EdgePrewitt'], label=\"EdgePrewitt\")\n",
        "plt.plot(df_newFeatures1['Gray Level Images'], df_newFeatures1['StatMean'], label=\"StatMean\")\n",
        "    #plt.plot(features['Gray Level Images'], features['StatAvgContrast'], label=\"StatAvgContrast\")\n",
        "plt.plot(df_newFeatures1['Gray Level Images'], df_newFeatures1['StatSkewness'], label=\"StatSkewness\")\n",
        "plt.plot(df_newFeatures1['Gray Level Images'], df_newFeatures1['StatKurtosis'], label=\"StatKurtosis\")\n",
        "plt.plot(df_newFeatures1['Gray Level Images'], df_newFeatures1['StatEnergy'], label=\"StatEnergy\")\n",
        "plt.plot(df_newFeatures1['Gray Level Images'], df_newFeatures1['Gaussian1'], label=\"Gaussian1\")\n",
        "plt.plot(df_newFeatures1['Gray Level Images'], df_newFeatures1['Gaussian3'], label=\"Gaussian3\")\n",
        "plt.plot(df_newFeatures1['Gray Level Images'], df_newFeatures1['Entropy'], label=\"Entropy\")\n",
        "plt.xlabel('Gray Images in the dataset')\n",
        "plt.title('Distribution of features of Gray Level images - Set 2')\n",
        "plt.legend()\n",
        "plt.show()\n"
      ],
      "execution_count": 71,
      "outputs": [
        {
          "output_type": "display_data",
          "data": {
            "image/png": "[encoded data removed]",
            "text/plain": [
              "<Figure size 432x288 with 1 Axes>"
            ]
          },
          "metadata": {
            "needs_background": "light"
          }
        }
      ]
    },
    {
      "cell_type": "code",
      "metadata": {
        "id": "7t4-9CQlR-9E",
        "colab": {
          "base_uri": "https://localhost:8080/",
          "height": 520
        },
        "outputId": "d3471ec1-3b98-417b-adc0-e61207b374ee"
      },
      "source": [
        "Gabor_plot_label_i = 0\n",
        "for i in range(31):\n",
        "  Gabor_plot_label = 'GB' + str(i)\n",
        "  plt.plot(df_newFeatures1['Gray Level Images'], df_newFeatures1[Gabor_plot_label], label=Gabor_plot_label)\n",
        "  Gabor_plot_label_i += 1\n",
        "\n",
        "plt.xlabel('Gray Images in the dataset-Set 1')\n",
        "plt.title('Distribution of features of Gray Level images - Set 3')\n",
        "plt.legend()\n",
        "plt.show()"
      ],
      "execution_count": 72,
      "outputs": [
        {
          "output_type": "display_data",
          "data": {
            "image/png": "[encoded data removed]",
            "text/plain": [
              "<Figure size 432x288 with 1 Axes>"
            ]
          },
          "metadata": {
            "needs_background": "light"
          }
        }
      ]
    },
    {
      "cell_type": "markdown",
      "metadata": {
        "id": "FQIWaODgXymw"
      },
      "source": [
        "### Performing Principal Component Analysis for Dimensionlity Reduction."
      ]
    },
    {
      "cell_type": "code",
      "metadata": {
        "id": "dRijU3bhIbUy"
      },
      "source": [
        "def performPCA():\n",
        "    print(\"Performing PCA\")\n",
        "    featureset = df_newFeatures1\n",
        "    featureset.drop(['Gray Level Images'], axis = 1, inplace = True)\n",
        "    print(featureset.head())\n",
        "\n",
        "    #Standardize the data (The first step of PCA)\n",
        "    X_std = StandardScaler().fit_transform(featureset)\n",
        "    print(X_std.shape)\n",
        "\n",
        "    #compute covariance matrix\n",
        "    mean_vec= np.mean(X_std, axis=0)\n",
        "    cov_mat = (X_std - mean_vec).T.dot((X_std-mean_vec)) / (X_std.shape[0]-1)\n",
        "    print('Covariance matrix: \\n%s' %cov_mat)\n",
        "\n",
        "    #Get eigen values\n",
        "    cov_mat = np.cov(X_std.T)\n",
        "    eig_vals, eig_vecs = np.linalg.eig(cov_mat)\n",
        "\n",
        "    eig_pairs = [(np.abs(eig_vals[i]), eig_vecs[:,i]) for i in range(len(eig_vals))]\n",
        "\n",
        "    pca = sklearnPCA(n_components=2)\n",
        "    pca.fit_transform(featureset)\n",
        "    print('PCA Variance ratio: ', pca.explained_variance_ratio_)\n",
        "    principalComponents_features = pca.fit_transform(X_std)\n",
        "    principal_features = pd.DataFrame(data=principalComponents_features, columns=['principal component 1', 'principal component 2'])\n",
        "    print(principal_features)\n",
        "    principal_features.to_csv('drive/MyDrive/UOM/FYP/PCAFeatures.csv')\n",
        "\n",
        "    pca = sklearnPCA().fit(X_std)\n",
        "    plt.plot(np.cumsum(pca.explained_variance_ratio_))\n",
        "    plt.xlabel('number of components')\n",
        "    plt.ylabel('cumulative explained variance')\n",
        "    plt.show()\n",
        "\n",
        "    x = []\n",
        "    y = principal_features['principal component 1']\n",
        "    for i in range(102):\n",
        "        x.append(i)\n",
        "    plt.plot(x,y)\n",
        "    plt.xlabel('number of images')\n",
        "    plt.ylabel('PCA1')\n",
        "    plt.show()\n",
        "\n",
        "    y_pca2 = principal_features['principal component 2']\n",
        "    plt.plot(x, y_pca2)\n",
        "    plt.xlabel('number of images')\n",
        "    plt.ylabel('PCA2')\n",
        "    plt.show()\n"
      ],
      "execution_count": 73,
      "outputs": []
    },
    {
      "cell_type": "code",
      "metadata": {
        "id": "WUjdDhXmNiJ8",
        "colab": {
          "base_uri": "https://localhost:8080/",
          "height": 1000
        },
        "outputId": "8063dc48-fbc0-4bb5-f25e-bd360a379e2e"
      },
      "source": [
        "performPCA()"
      ],
      "execution_count": 74,
      "outputs": [
        {
          "output_type": "stream",
          "name": "stdout",
          "text": [
            "Performing PCA\n",
            "   CannyEdge  EdgeRoberts  ...  GLCM_Energy  GLCM_Contrast\n",
            "0   4.194565     0.013689  ...     0.052283     180.895896\n",
            "1   4.258623     0.014069  ...     0.049432     181.957759\n",
            "2   4.347319     0.014410  ...     0.044498     182.504669\n",
            "3   4.541957     0.014716  ...     0.044354     183.291828\n",
            "4   4.639275     0.014998  ...     0.043231     185.472615\n",
            "\n",
            "[5 rows x 90 columns]\n",
            "(102, 90)\n",
            "Covariance matrix: \n",
            "[[ 1.00990099  1.00609943  1.0069303  ... -0.90441571 -0.91303921\n",
            "   1.00641537]\n",
            " [ 1.00609943  1.00990099  1.00980246 ... -0.93165734 -0.93602439\n",
            "   1.008165  ]\n",
            " [ 1.0069303   1.00980246  1.00990099 ... -0.92911315 -0.9344171\n",
            "   1.00842323]\n",
            " ...\n",
            " [-0.90441571 -0.93165734 -0.92911315 ...  1.00990099  1.00091115\n",
            "  -0.9112113 ]\n",
            " [-0.91303921 -0.93602439 -0.9344171  ...  1.00091115  1.00990099\n",
            "  -0.91891969]\n",
            " [ 1.00641537  1.008165    1.00842323 ... -0.9112113  -0.91891969\n",
            "   1.00990099]]\n",
            "PCA Variance ratio:  [9.99589945e-01 2.64000060e-04]\n",
            "     principal component 1  principal component 2\n",
            "0                -8.863416               3.807659\n",
            "1                -8.733930               3.245621\n",
            "2                -8.490162               2.724299\n",
            "3                -8.410476               2.428036\n",
            "4                -8.293180               2.272589\n",
            "..                     ...                    ...\n",
            "97                9.689719               0.158212\n",
            "98                9.648532               0.183496\n",
            "99                9.496417               0.368401\n",
            "100               9.365149               0.423117\n",
            "101               9.245407               0.428152\n",
            "\n",
            "[102 rows x 2 columns]\n"
          ]
        },
        {
          "output_type": "display_data",
          "data": {
            "image/png": "[encoded data removed]",
            "text/plain": [
              "<Figure size 432x288 with 1 Axes>"
            ]
          },
          "metadata": {
            "needs_background": "light"
          }
        },
        {
          "output_type": "display_data",
          "data": {
            "image/png": "[encoded data removed]",
            "text/plain": [
              "<Figure size 432x288 with 1 Axes>"
            ]
          },
          "metadata": {
            "needs_background": "light"
          }
        },
        {
          "output_type": "display_data",
          "data": {
            "image/png": "[encoded data removed]",
            "text/plain": [
              "<Figure size 432x288 with 1 Axes>"
            ]
          },
          "metadata": {
            "needs_background": "light"
          }
        }
      ]
    }
  ]
}